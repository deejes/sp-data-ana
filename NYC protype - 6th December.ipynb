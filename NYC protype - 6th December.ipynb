{
 "cells": [
  {
   "cell_type": "code",
   "execution_count": 607,
   "metadata": {},
   "outputs": [],
   "source": [
    "%matplotlib inline\n",
    "import pandas as pd\n",
    "import seaborn as sns\n",
    "import numpy as np\n",
    "import matplotlib.pyplot as plt\n",
    "import time;  from datetime import datetime\n",
    "import math\n",
    "plt.rcParams[\"figure.figsize\"] = (15,10)"
   ]
  },
  {
   "cell_type": "code",
   "execution_count": 4,
   "metadata": {},
   "outputs": [],
   "source": [
    "# this will have to come from overall function call. It is the difference in local time from PST.\n",
    "offset_from_pst = 3\n",
    "cost_mobile_user = .28\n",
    "cost_desklet_user = .45"
   ]
  },
  {
   "cell_type": "code",
   "execution_count": 130,
   "metadata": {},
   "outputs": [],
   "source": [
    "nyc = pd.read_csv('gapi_city_data-export-2017-11-30.csv') # read the gapi database\n",
    "nyc.dropna(axis=1, how='all', inplace=True) # drops all columns where all values are NaN\n",
    "nyc.drop(\"Organic Searches\", axis=1,inplace=True) # Drops Column\n",
    "nyc = nyc.loc[nyc['City'] == 1023191] # Selects records only NYC"
   ]
  },
  {
   "cell_type": "code",
   "execution_count": 6,
   "metadata": {},
   "outputs": [],
   "source": [
    "weather = pd.read_csv('open_weather_6cities.csv')  # read the weather database\n",
    "weather.dropna(axis=1, how='all', inplace=True) # drops all columns where all values are NaN\n",
    "weather = weather.loc[weather['city_id'] == 5128581] # Selects records only NYC"
   ]
  },
  {
   "cell_type": "code",
   "execution_count": 7,
   "metadata": {},
   "outputs": [],
   "source": [
    "## check non unique weather rows \n",
    "weather_nonunique= weather\n",
    "a = weather_nonunique['city_id'].astype(str)\n",
    "b = weather_nonunique['dt'].astype(str)\n",
    "weather_nonunique['concatenated'] = a+b\n",
    "# weather_nonunique['concatenated'].value_counts()"
   ]
  },
  {
   "cell_type": "code",
   "execution_count": 8,
   "metadata": {},
   "outputs": [],
   "source": [
    "##Join tables on Unix Time and return df\n",
    "\n",
    "\n",
    "# takes a string  in YYYMMDDHH (nyc(Date Hour)) and returns a Unix Time assuming local time zone for input\n",
    "# this works because (local time on my machine) == (timezone of ga: time{set by ga account preferences}) \n",
    "def unixtimestamp(row):\n",
    "    return int(int(time.mktime(datetime.strptime(row, \"%Y%m%d%H\").timetuple())))\n",
    "\n",
    "# creates new column unix_time in nyc using unixtimestamp\n",
    "nyc['unix_time'] = nyc.apply(lambda row: unixtimestamp(str(row['Date Hour'])), axis=1)\n",
    "\n",
    "# join nyc to weather on unix_time \n",
    "df = nyc.join(weather.set_index('dt'), on='unix_time') "
   ]
  },
  {
   "cell_type": "code",
   "execution_count": 9,
   "metadata": {},
   "outputs": [],
   "source": [
    "#TODO: remove the need for this fix by importing fresh city data.\n",
    "\n",
    "# fix to drop rows where no weather data\n",
    "df = df.dropna(subset=['temp'])"
   ]
  },
  {
   "cell_type": "code",
   "execution_count": 10,
   "metadata": {},
   "outputs": [],
   "source": [
    "## Remove nighttime records\n",
    "\n",
    "## Should we retain nighttime records in a separate df to see changes there?\n",
    "\n",
    "# night starts at 1 a.m,ends at 7 a.m. These hard coded values come from client.\n",
    "night_start = 1\n",
    "night_end = 6\n",
    "\n",
    "# Adds hour column with only last two digits from Date Hour\n",
    "df['Hour'] = df['Date Hour'].transform(str).str.slice(start=8).transform(int)\n",
    "\n",
    "# function that given target city timezone offset from pst,\n",
    "#returns start and end hours for the night in terms of pst\n",
    "def offset_night_times(night_time,pst_offest):\n",
    "    # if start/end time in pst is premidnight\n",
    "    if night_time - pst_offest < 0:\n",
    "        offset_night_time = 24 + night_time - pst_offest\n",
    "    else:\n",
    "        offset_night_time = night_time - pst_offest\n",
    "    return (offset_night_time)\n",
    "\n",
    "# calls above function and saves start and end of night in local time.\n",
    "offset_night_start = offset_night_times(night_start,offset_from_pst)\n",
    "offset_night_end = offset_night_times(night_end,offset_from_pst)\n",
    "\n",
    "# drops night time values from df. if statement to accommdate possibility that target city night\n",
    "# start is premidnight local time\n",
    "def remove_night_hours_df():\n",
    "    if offset_night_start>offset_night_end:\n",
    "        df.drop(df[(df.Hour >= 22) | (df.Hour<= 3)].index, inplace=True)\n",
    "    else:\n",
    "        df.drop(df[(df.Hour >= 1) & (df.Hour<= 6)].index, inplace=True)\n",
    "\n",
    "remove_night_hours_df()\n",
    "\n",
    "# check that 18 unique values are left\n",
    "assert df['Hour'].nunique() == 18"
   ]
  },
  {
   "cell_type": "code",
   "execution_count": 11,
   "metadata": {},
   "outputs": [],
   "source": [
    "# Combine desktop and tablet into desklet in Device Category\n",
    "df.loc[:,('Device Category')] = df.loc[:,('Device Category')].replace(to_replace=['desktop','tablet'],value='desklet')"
   ]
  },
  {
   "cell_type": "code",
   "execution_count": 12,
   "metadata": {},
   "outputs": [],
   "source": [
    "## Split by weekday and weekend\n",
    "\n",
    "def extract_month_from_unix(row):\n",
    "     return int(datetime.fromtimestamp(row).strftime('%m'))\n",
    "    \n",
    "df['Month'] = df['unix_time'].apply(extract_month_from_unix)\n",
    "    \n",
    "def extract_day_from_unix(row):\n",
    "    day = (datetime.fromtimestamp(row).strftime('%A'))\n",
    "    if day == \"Saturday\" or day == \"Sunday\":\n",
    "        return \"Weekend\"\n",
    "    else:\n",
    "        return \"Weekday\"\n",
    "\n",
    "df['weekdayend'] = df['unix_time'].apply(extract_day_from_unix)"
   ]
  },
  {
   "cell_type": "code",
   "execution_count": 13,
   "metadata": {},
   "outputs": [],
   "source": [
    "## Split by high/low season\n",
    "\n",
    "high_season = [10,11,12,1,2]\n",
    "def highlow_season(row):\n",
    "    if row in high_season:\n",
    "        return \"High Season\"\n",
    "    else:\n",
    "        return \"Low Season\"\n",
    "\n",
    "df['Season'] = df['Month'].apply(highlow_season)"
   ]
  },
  {
   "cell_type": "code",
   "execution_count": 463,
   "metadata": {},
   "outputs": [],
   "source": [
    "#split days into hot and cold\n",
    "def hotcold(row):\n",
    "    hot = 298  # ~25 C\n",
    "    cold = 279 # ~5 C\n",
    "    if row >= hot:\n",
    "        return \"Hot\"\n",
    "    elif row < cold:\n",
    "        return \"Cold\"\n",
    "    else:\n",
    "        return \"Regular\"\n",
    "\n",
    "df['hotcold'] = df['temp'].apply(hotcold)\n",
    "\n",
    "# df.hotcold.value_counts()"
   ]
  },
  {
   "cell_type": "code",
   "execution_count": 15,
   "metadata": {
    "scrolled": true
   },
   "outputs": [],
   "source": [
    "## Map weather_id to main weather categories\n",
    "\n",
    "def return_first_digit(row):\n",
    "    return (str(row)[0])\n",
    "\n",
    "df['weather_category'] = df.loc[:,('weather_id')].apply(return_first_digit)\n",
    "\n",
    "weather_id_dict = {'2':'2 Thunderstorms','3':'3 Drizzle','5':'5 Rain','6':'6 Snow','7':'7 Atmosphere',\n",
    "                   '8':'8 Clear','9':'9 Extreme'}\n",
    "\n",
    "df = df.replace({'weather_category':weather_id_dict}) "
   ]
  },
  {
   "cell_type": "code",
   "execution_count": 16,
   "metadata": {
    "collapsed": true
   },
   "outputs": [
    {
     "data": {
      "text/plain": [
       "['City',\n",
       " 'Date Hour',\n",
       " 'User Type',\n",
       " 'Device Category',\n",
       " 'Sessions',\n",
       " 'Bounces',\n",
       " 'Users',\n",
       " 'Transactions',\n",
       " 'Transaction Revenue',\n",
       " 'Revenue Per User',\n",
       " 'Page Value',\n",
       " 'unix_time',\n",
       " 'dt_iso',\n",
       " 'city_id',\n",
       " 'temp',\n",
       " 'temp_min',\n",
       " 'temp_max',\n",
       " 'pressure',\n",
       " 'humidity',\n",
       " 'wind_speed',\n",
       " 'wind_deg',\n",
       " 'rain_1h',\n",
       " 'rain_3h',\n",
       " 'snow_1h',\n",
       " 'snow_3h',\n",
       " 'clouds_all',\n",
       " 'weather_id',\n",
       " 'weather_main',\n",
       " 'weather_description',\n",
       " 'weather_icon',\n",
       " 'concatenated',\n",
       " 'Hour',\n",
       " 'Month',\n",
       " 'weekdayend',\n",
       " 'Season',\n",
       " 'hotcold',\n",
       " 'weather_category']"
      ]
     },
     "execution_count": 16,
     "metadata": {},
     "output_type": "execute_result"
    }
   ],
   "source": [
    "list(df)"
   ]
  },
  {
   "cell_type": "code",
   "execution_count": 17,
   "metadata": {},
   "outputs": [],
   "source": [
    "# Select columns \n",
    "df2= df[[\"User Type\",'Device Category', 'hotcold', 'weekdayend', 'Season','Revenue Per User','weather_category']]"
   ]
  },
  {
   "cell_type": "code",
   "execution_count": 18,
   "metadata": {
    "collapsed": true
   },
   "outputs": [
    {
     "data": {
      "text/html": [
       "<div>\n",
       "<style scoped>\n",
       "    .dataframe tbody tr th:only-of-type {\n",
       "        vertical-align: middle;\n",
       "    }\n",
       "\n",
       "    .dataframe tbody tr th {\n",
       "        vertical-align: top;\n",
       "    }\n",
       "\n",
       "    .dataframe thead th {\n",
       "        text-align: right;\n",
       "    }\n",
       "</style>\n",
       "<table border=\"1\" class=\"dataframe\">\n",
       "  <thead>\n",
       "    <tr style=\"text-align: right;\">\n",
       "      <th></th>\n",
       "      <th>City</th>\n",
       "      <th>Date Hour</th>\n",
       "      <th>User Type</th>\n",
       "      <th>Device Category</th>\n",
       "      <th>Sessions</th>\n",
       "      <th>Bounces</th>\n",
       "      <th>Users</th>\n",
       "      <th>Transactions</th>\n",
       "      <th>Transaction Revenue</th>\n",
       "      <th>Revenue Per User</th>\n",
       "      <th>...</th>\n",
       "      <th>weather_main</th>\n",
       "      <th>weather_description</th>\n",
       "      <th>weather_icon</th>\n",
       "      <th>concatenated</th>\n",
       "      <th>Hour</th>\n",
       "      <th>Month</th>\n",
       "      <th>weekdayend</th>\n",
       "      <th>Season</th>\n",
       "      <th>hotcold</th>\n",
       "      <th>weather_category</th>\n",
       "    </tr>\n",
       "  </thead>\n",
       "  <tbody>\n",
       "    <tr>\n",
       "      <th>5903</th>\n",
       "      <td>1023191</td>\n",
       "      <td>2017070207</td>\n",
       "      <td>New Visitor</td>\n",
       "      <td>desklet</td>\n",
       "      <td>2</td>\n",
       "      <td>1</td>\n",
       "      <td>2</td>\n",
       "      <td>0</td>\n",
       "      <td>0.0</td>\n",
       "      <td>0.0</td>\n",
       "      <td>...</td>\n",
       "      <td>Clear</td>\n",
       "      <td>Sky is Clear</td>\n",
       "      <td>01d</td>\n",
       "      <td>51285811499004000</td>\n",
       "      <td>7</td>\n",
       "      <td>7</td>\n",
       "      <td>Weekend</td>\n",
       "      <td>Low Season</td>\n",
       "      <td>Regular</td>\n",
       "      <td>8 Clear</td>\n",
       "    </tr>\n",
       "    <tr>\n",
       "      <th>5904</th>\n",
       "      <td>1023191</td>\n",
       "      <td>2017070207</td>\n",
       "      <td>New Visitor</td>\n",
       "      <td>mobile</td>\n",
       "      <td>5</td>\n",
       "      <td>2</td>\n",
       "      <td>5</td>\n",
       "      <td>0</td>\n",
       "      <td>0.0</td>\n",
       "      <td>0.0</td>\n",
       "      <td>...</td>\n",
       "      <td>Clear</td>\n",
       "      <td>Sky is Clear</td>\n",
       "      <td>01d</td>\n",
       "      <td>51285811499004000</td>\n",
       "      <td>7</td>\n",
       "      <td>7</td>\n",
       "      <td>Weekend</td>\n",
       "      <td>Low Season</td>\n",
       "      <td>Regular</td>\n",
       "      <td>8 Clear</td>\n",
       "    </tr>\n",
       "    <tr>\n",
       "      <th>5905</th>\n",
       "      <td>1023191</td>\n",
       "      <td>2017070207</td>\n",
       "      <td>New Visitor</td>\n",
       "      <td>desklet</td>\n",
       "      <td>3</td>\n",
       "      <td>1</td>\n",
       "      <td>3</td>\n",
       "      <td>0</td>\n",
       "      <td>0.0</td>\n",
       "      <td>0.0</td>\n",
       "      <td>...</td>\n",
       "      <td>Clear</td>\n",
       "      <td>Sky is Clear</td>\n",
       "      <td>01d</td>\n",
       "      <td>51285811499004000</td>\n",
       "      <td>7</td>\n",
       "      <td>7</td>\n",
       "      <td>Weekend</td>\n",
       "      <td>Low Season</td>\n",
       "      <td>Regular</td>\n",
       "      <td>8 Clear</td>\n",
       "    </tr>\n",
       "    <tr>\n",
       "      <th>5906</th>\n",
       "      <td>1023191</td>\n",
       "      <td>2017070207</td>\n",
       "      <td>Returning Visitor</td>\n",
       "      <td>mobile</td>\n",
       "      <td>3</td>\n",
       "      <td>1</td>\n",
       "      <td>2</td>\n",
       "      <td>0</td>\n",
       "      <td>0.0</td>\n",
       "      <td>0.0</td>\n",
       "      <td>...</td>\n",
       "      <td>Clear</td>\n",
       "      <td>Sky is Clear</td>\n",
       "      <td>01d</td>\n",
       "      <td>51285811499004000</td>\n",
       "      <td>7</td>\n",
       "      <td>7</td>\n",
       "      <td>Weekend</td>\n",
       "      <td>Low Season</td>\n",
       "      <td>Regular</td>\n",
       "      <td>8 Clear</td>\n",
       "    </tr>\n",
       "    <tr>\n",
       "      <th>5907</th>\n",
       "      <td>1023191</td>\n",
       "      <td>2017070207</td>\n",
       "      <td>Returning Visitor</td>\n",
       "      <td>desklet</td>\n",
       "      <td>1</td>\n",
       "      <td>0</td>\n",
       "      <td>1</td>\n",
       "      <td>0</td>\n",
       "      <td>0.0</td>\n",
       "      <td>0.0</td>\n",
       "      <td>...</td>\n",
       "      <td>Clear</td>\n",
       "      <td>Sky is Clear</td>\n",
       "      <td>01d</td>\n",
       "      <td>51285811499004000</td>\n",
       "      <td>7</td>\n",
       "      <td>7</td>\n",
       "      <td>Weekend</td>\n",
       "      <td>Low Season</td>\n",
       "      <td>Regular</td>\n",
       "      <td>8 Clear</td>\n",
       "    </tr>\n",
       "  </tbody>\n",
       "</table>\n",
       "<p>5 rows × 37 columns</p>\n",
       "</div>"
      ],
      "text/plain": [
       "         City   Date Hour          User Type Device Category  Sessions  \\\n",
       "5903  1023191  2017070207        New Visitor         desklet         2   \n",
       "5904  1023191  2017070207        New Visitor          mobile         5   \n",
       "5905  1023191  2017070207        New Visitor         desklet         3   \n",
       "5906  1023191  2017070207  Returning Visitor          mobile         3   \n",
       "5907  1023191  2017070207  Returning Visitor         desklet         1   \n",
       "\n",
       "      Bounces  Users  Transactions  Transaction Revenue  Revenue Per User  \\\n",
       "5903        1      2             0                  0.0               0.0   \n",
       "5904        2      5             0                  0.0               0.0   \n",
       "5905        1      3             0                  0.0               0.0   \n",
       "5906        1      2             0                  0.0               0.0   \n",
       "5907        0      1             0                  0.0               0.0   \n",
       "\n",
       "            ...         weather_main  weather_description weather_icon  \\\n",
       "5903        ...                Clear         Sky is Clear          01d   \n",
       "5904        ...                Clear         Sky is Clear          01d   \n",
       "5905        ...                Clear         Sky is Clear          01d   \n",
       "5906        ...                Clear         Sky is Clear          01d   \n",
       "5907        ...                Clear         Sky is Clear          01d   \n",
       "\n",
       "           concatenated  Hour  Month  weekdayend      Season  hotcold  \\\n",
       "5903  51285811499004000     7      7     Weekend  Low Season  Regular   \n",
       "5904  51285811499004000     7      7     Weekend  Low Season  Regular   \n",
       "5905  51285811499004000     7      7     Weekend  Low Season  Regular   \n",
       "5906  51285811499004000     7      7     Weekend  Low Season  Regular   \n",
       "5907  51285811499004000     7      7     Weekend  Low Season  Regular   \n",
       "\n",
       "      weather_category  \n",
       "5903           8 Clear  \n",
       "5904           8 Clear  \n",
       "5905           8 Clear  \n",
       "5906           8 Clear  \n",
       "5907           8 Clear  \n",
       "\n",
       "[5 rows x 37 columns]"
      ]
     },
     "execution_count": 18,
     "metadata": {},
     "output_type": "execute_result"
    }
   ],
   "source": [
    "df.head()"
   ]
  },
  {
   "cell_type": "code",
   "execution_count": 19,
   "metadata": {},
   "outputs": [],
   "source": [
    "## Is the np.average function correct? Really think about it, and wether we can get something\n",
    "## to optimise this. Will translate into a huge difference."
   ]
  },
  {
   "cell_type": "markdown",
   "metadata": {},
   "source": [
    "#### So I have the data in the form that I want\n",
    "\n",
    "What I need to do now is to present in a way that allows one to draw meaningful inferences.\n",
    "\n",
    "So what am I trying to show?\n",
    "\n",
    "I am trying to see how the intersectionality of weather zone with time of year, day, device, play into the average amount of money a user spends.\n",
    "\n",
    "The problem with throwing this all into a chart is that the data gets really fragmented. Also the sparsity of data means that averages start to vary wildly.\n",
    "\n",
    "Seprating dfs by column values is not helpful. For example, if we split into mobile and desklet, we lose any comparitive value because now they dont appear on the same graph.\n",
    "\n",
    "Lets say there is a positive corelation with the weekends, for example. What kind of a graph would we have to see for that to be the case?\n",
    "\n",
    "If we say that drizzle has a positive impact on both desklet and mobile. We could then say have the drizzle data split into weekends/weekdays etc and see if one is a lot higher than the others.\n",
    "\n",
    "the same could be done for everyone else. so lets first work on figuring out the basic relationships, and then see if any of them can be improved using the weekend/day or hot/cold metrics.\n",
    "\n",
    "So thats the conceptual, how do we implement it?\n",
    "\n",
    "\n",
    "\n",
    "\n",
    "\n",
    "Something actionable to do - figure out the number and percentage of session that corresponds to each\n",
    "of the bars in a chart.\n",
    "\n",
    "Once I have this, I want to aggregate new and returning users - not a problem."
   ]
  },
  {
   "cell_type": "code",
   "execution_count": 326,
   "metadata": {},
   "outputs": [],
   "source": [
    "def add_total_to_comparitive(input_dataframe,column):\n",
    "    input_dataframe.reset_index(inplace=True)\n",
    "    for x in input_dataframe[column].unique():\n",
    "        segmented_df = input_dataframe[input_dataframe[column]==x]\n",
    "        row_list = list(segmented_df[list(segmented_df)[2:]].sum())\n",
    "        row_list.insert(0,segmented_df[column].iloc[0])\n",
    "        row_list.insert(0,'Total')\n",
    "        input_dataframe.loc[(input_dataframe.shape[0])+1]=row_list\n",
    "    input_dataframe = input_dataframe.set_index(['User Type',column])\n",
    "    return input_dataframe"
   ]
  },
  {
   "cell_type": "code",
   "execution_count": 557,
   "metadata": {},
   "outputs": [
    {
     "data": {
      "text/plain": [
       "0.16986869150146935"
      ]
     },
     "execution_count": 557,
     "metadata": {},
     "output_type": "execute_result"
    }
   ],
   "source": [
    "100/df2.shape[0] * 100"
   ]
  },
  {
   "cell_type": "code",
   "execution_count": 561,
   "metadata": {},
   "outputs": [
    {
     "data": {
      "text/plain": [
       "array(['Hot', 'Cold'], dtype=object)"
      ]
     },
     "execution_count": 561,
     "metadata": {},
     "output_type": "execute_result"
    }
   ],
   "source": [
    "df2[df2.hotcold!='Regular'].hotcold.unique()"
   ]
  },
  {
   "cell_type": "code",
   "execution_count": 639,
   "metadata": {
    "scrolled": false
   },
   "outputs": [
    {
     "data": {
      "text/plain": [
       "<matplotlib.lines.Line2D at 0x7f23381a3550>"
      ]
     },
     "execution_count": 639,
     "metadata": {},
     "output_type": "execute_result"
    },
    {
     "data": {
      "image/png": "[encoded data removed]",
      "text/plain": [
       "<matplotlib.figure.Figure at 0x7f2333d2e048>"
      ]
     },
     "metadata": {},
     "output_type": "display_data"
    }
   ],
   "source": [
    "hot_cold_comparison = df2[df2.hotcold!='Regular'].pivot_table(\n",
    "    index=['User Type','hotcold'], \n",
    "    columns='weather_category',values='Revenue Per User', \n",
    "    aggfunc=np.average)\n",
    "\n",
    "\n",
    "\n",
    "\n",
    "hot_cold_comparison_count = df2[df2.hotcold!='Regular'].pivot_table(\n",
    "    index=['User Type','hotcold'], \n",
    "    columns='weather_category',values='Revenue Per User', \n",
    "    aggfunc='count')\n",
    "\n",
    "\n",
    "\n",
    "# creates a df with boolean values with comparison condition \n",
    "for x in list(hot_cold_comparison_count):\n",
    "    hot_cold_comparison_count_bool[x] = (hot_cold_comparison_count[x] >= 98)\n",
    "\n",
    "    \n",
    "\n",
    "filtered_hotcold = hot_cold_comparison_count_bool.dropna().multiply(hot_cold_comparison)\n",
    "filtered_hotcold = filtered_hotcold.replace(0, np.nan)\n",
    "filtered_hotcold\n",
    "\n",
    "# plt.axhline(y=0.5, color='r', linestyle='-')\n",
    "\n",
    "filtered_hotcold.multiply(hot_cold_comparison).plot.bar().\\\n",
    "axhline(y=average_df(filtered_hotcold), color='black', linestyle='--')\n",
    "\n",
    "\n",
    "\n",
    "# ## Throw out the values that occur less than some certain number of times- \n",
    "# ## but how do we arrive at a figure that makes sense given the dimensionality of the data\n",
    "# ## ie having split it into day vs. night etc.\n",
    "# ## Figure out the percentages of each above and below the mean\n",
    "\n"
   ]
  },
  {
   "cell_type": "code",
   "execution_count": 610,
   "metadata": {},
   "outputs": [
    {
     "data": {
      "text/plain": [
       "1.546024817928299"
      ]
     },
     "execution_count": 610,
     "metadata": {},
     "output_type": "execute_result"
    }
   ],
   "source": [
    "# return average for all values across a df that aren't nans\n",
    "def average_df(df):\n",
    "    values = []\n",
    "    for x in df:\n",
    "        for y in df[x]:\n",
    "            if not math.isnan(y):\n",
    "                values.append(y)\n",
    "    return sum(values) / float(len(values))\n",
    "\n",
    "            \n",
    "average_df(filtered_hotcold)"
   ]
  },
  {
   "cell_type": "code",
   "execution_count": 501,
   "metadata": {},
   "outputs": [
    {
     "data": {
      "text/html": [
       "<div>\n",
       "<style scoped>\n",
       "    .dataframe tbody tr th:only-of-type {\n",
       "        vertical-align: middle;\n",
       "    }\n",
       "\n",
       "    .dataframe tbody tr th {\n",
       "        vertical-align: top;\n",
       "    }\n",
       "\n",
       "    .dataframe thead th {\n",
       "        text-align: right;\n",
       "    }\n",
       "</style>\n",
       "<table border=\"1\" class=\"dataframe\">\n",
       "  <thead>\n",
       "    <tr style=\"text-align: right;\">\n",
       "      <th></th>\n",
       "      <th>weather_category</th>\n",
       "      <th>2 Thunderstorms</th>\n",
       "      <th>3 Drizzle</th>\n",
       "      <th>5 Rain</th>\n",
       "      <th>6 Snow</th>\n",
       "      <th>7 Atmosphere</th>\n",
       "      <th>8 Clear</th>\n",
       "    </tr>\n",
       "    <tr>\n",
       "      <th>User Type</th>\n",
       "      <th>hotcold</th>\n",
       "      <th></th>\n",
       "      <th></th>\n",
       "      <th></th>\n",
       "      <th></th>\n",
       "      <th></th>\n",
       "      <th></th>\n",
       "    </tr>\n",
       "  </thead>\n",
       "  <tbody>\n",
       "    <tr>\n",
       "      <th rowspan=\"3\" valign=\"top\">New Visitor</th>\n",
       "      <th>Cold</th>\n",
       "      <td>1.526000</td>\n",
       "      <td>3.603056</td>\n",
       "      <td>2.284625</td>\n",
       "      <td>0.912921</td>\n",
       "      <td>0.926353</td>\n",
       "      <td>0.994564</td>\n",
       "    </tr>\n",
       "    <tr>\n",
       "      <th>Hot</th>\n",
       "      <td>0.931397</td>\n",
       "      <td>0.000000</td>\n",
       "      <td>0.998881</td>\n",
       "      <td>NaN</td>\n",
       "      <td>1.281051</td>\n",
       "      <td>1.001607</td>\n",
       "    </tr>\n",
       "    <tr>\n",
       "      <th>Regular</th>\n",
       "      <td>2.307281</td>\n",
       "      <td>1.506026</td>\n",
       "      <td>1.240026</td>\n",
       "      <td>1.643801</td>\n",
       "      <td>0.831076</td>\n",
       "      <td>0.946132</td>\n",
       "    </tr>\n",
       "    <tr>\n",
       "      <th rowspan=\"3\" valign=\"top\">Returning Visitor</th>\n",
       "      <th>Cold</th>\n",
       "      <td>55.735000</td>\n",
       "      <td>0.000000</td>\n",
       "      <td>6.584197</td>\n",
       "      <td>2.390412</td>\n",
       "      <td>1.951889</td>\n",
       "      <td>1.524491</td>\n",
       "    </tr>\n",
       "    <tr>\n",
       "      <th>Hot</th>\n",
       "      <td>2.878101</td>\n",
       "      <td>0.000000</td>\n",
       "      <td>1.250780</td>\n",
       "      <td>NaN</td>\n",
       "      <td>2.386368</td>\n",
       "      <td>2.809009</td>\n",
       "    </tr>\n",
       "    <tr>\n",
       "      <th>Regular</th>\n",
       "      <td>2.065210</td>\n",
       "      <td>1.674298</td>\n",
       "      <td>1.789872</td>\n",
       "      <td>2.439875</td>\n",
       "      <td>1.409361</td>\n",
       "      <td>1.735307</td>\n",
       "    </tr>\n",
       "  </tbody>\n",
       "</table>\n",
       "</div>"
      ],
      "text/plain": [
       "weather_category           2 Thunderstorms  3 Drizzle    5 Rain    6 Snow  \\\n",
       "User Type         hotcold                                                   \n",
       "New Visitor       Cold            1.526000   3.603056  2.284625  0.912921   \n",
       "                  Hot             0.931397   0.000000  0.998881       NaN   \n",
       "                  Regular         2.307281   1.506026  1.240026  1.643801   \n",
       "Returning Visitor Cold           55.735000   0.000000  6.584197  2.390412   \n",
       "                  Hot             2.878101   0.000000  1.250780       NaN   \n",
       "                  Regular         2.065210   1.674298  1.789872  2.439875   \n",
       "\n",
       "weather_category           7 Atmosphere   8 Clear  \n",
       "User Type         hotcold                          \n",
       "New Visitor       Cold         0.926353  0.994564  \n",
       "                  Hot          1.281051  1.001607  \n",
       "                  Regular      0.831076  0.946132  \n",
       "Returning Visitor Cold         1.951889  1.524491  \n",
       "                  Hot          2.386368  2.809009  \n",
       "                  Regular      1.409361  1.735307  "
      ]
     },
     "execution_count": 501,
     "metadata": {},
     "output_type": "execute_result"
    }
   ],
   "source": [
    "def greater_than_ten(row):\n",
    "    return row > 10\n",
    "\n",
    "\n",
    "# hot_cold_comparison_count\n",
    "hot_cold_comparison"
   ]
  },
  {
   "cell_type": "code",
   "execution_count": 467,
   "metadata": {},
   "outputs": [
    {
     "data": {
      "text/plain": [
       "<matplotlib.axes._subplots.AxesSubplot at 0x7f23381a8eb8>"
      ]
     },
     "execution_count": 467,
     "metadata": {},
     "output_type": "execute_result"
    },
    {
     "data": {
      "image/png": "[encoded data removed]",
      "text/plain": [
       "<matplotlib.figure.Figure at 0x7f2338d2aeb8>"
      ]
     },
     "metadata": {},
     "output_type": "display_data"
    }
   ],
   "source": [
    "weekdayend_comparison_count = df2.pivot_table(\n",
    "    index=['User Type','weekdayend'], \n",
    "    columns='weather_category',values='Revenue Per User', \n",
    "    aggfunc='count')\n",
    "weekdayend_comparison_count.divide(df2.shape[0]/100).plot.bar()\n",
    "\n",
    "\n",
    "## this is interesting. \n",
    "\n",
    "# TODO - How to plot values in a df as labels on the graph?"
   ]
  },
  {
   "cell_type": "code",
   "execution_count": 452,
   "metadata": {},
   "outputs": [
    {
     "data": {
      "text/plain": [
       "<matplotlib.axes._subplots.AxesSubplot at 0x7f2338604400>"
      ]
     },
     "execution_count": 452,
     "metadata": {},
     "output_type": "execute_result"
    },
    {
     "data": {
      "image/png": "[encoded data removed]",
      "text/plain": [
       "<matplotlib.figure.Figure at 0x7f23385c85c0>"
      ]
     },
     "metadata": {},
     "output_type": "display_data"
    }
   ],
   "source": [
    "weekdayend_comparison = df2.pivot_table(\n",
    "    index=['User Type','weekdayend'], \n",
    "    columns='weather_category',values='Revenue Per User', \n",
    "    aggfunc=np.average)\n",
    "weekdayend_comparison.plot.bar()"
   ]
  },
  {
   "cell_type": "code",
   "execution_count": 381,
   "metadata": {},
   "outputs": [],
   "source": [
    "season_comparison = df2.pivot_table(\n",
    "    index=['User Type','Season'], \n",
    "    columns='weather_category',values='Revenue Per User', \n",
    "    aggfunc=np.average)\n",
    "# high season sales to returning customers are nil, but for new are not. why?\n",
    "# check the number of thunderstorm days in high season. it should be very low.\n",
    "# but even if that number is low, it warrants looking into why it would be the case\n",
    "# that returning customers did not end up buying anything."
   ]
  },
  {
   "cell_type": "code",
   "execution_count": 447,
   "metadata": {
    "collapsed": true
   },
   "outputs": [
    {
     "data": {
      "text/plain": [
       "<matplotlib.axes._subplots.AxesSubplot at 0x7f23387a6be0>"
      ]
     },
     "execution_count": 447,
     "metadata": {},
     "output_type": "execute_result"
    },
    {
     "data": {
      "image/png": "[encoded data removed]",
      "text/plain": [
       "<matplotlib.figure.Figure at 0x7f23387ab668>"
      ]
     },
     "metadata": {},
     "output_type": "display_data"
    }
   ],
   "source": [
    "add_total_to_comparitive(weekdayend_comparison,'weekdayend').plot.bar()"
   ]
  },
  {
   "cell_type": "code",
   "execution_count": 387,
   "metadata": {
    "collapsed": true
   },
   "outputs": [
    {
     "data": {
      "text/plain": [
       "<matplotlib.axes._subplots.AxesSubplot at 0x7f2338c257f0>"
      ]
     },
     "execution_count": 387,
     "metadata": {},
     "output_type": "execute_result"
    },
    {
     "data": {
      "image/png": "[encoded data removed]",
      "text/plain": [
       "<matplotlib.figure.Figure at 0x7f2338cac438>"
      ]
     },
     "metadata": {},
     "output_type": "display_data"
    }
   ],
   "source": [
    "add_total_to_comparitive(hot_cold_comparison,'hotcold').plot.bar()"
   ]
  },
  {
   "cell_type": "code",
   "execution_count": 343,
   "metadata": {
    "collapsed": true
   },
   "outputs": [
    {
     "data": {
      "text/plain": [
       "<matplotlib.axes._subplots.AxesSubplot at 0x7f233a992470>"
      ]
     },
     "execution_count": 343,
     "metadata": {},
     "output_type": "execute_result"
    },
    {
     "data": {
      "image/png": "[encoded data removed]",
      "text/plain": [
       "<matplotlib.figure.Figure at 0x7f233a9dd3c8>"
      ]
     },
     "metadata": {},
     "output_type": "display_data"
    }
   ],
   "source": [
    "add_total_to_comparitive(season_comparison,'Season').plot.bar()"
   ]
  },
  {
   "cell_type": "code",
   "execution_count": 335,
   "metadata": {},
   "outputs": [
    {
     "data": {
      "text/html": [
       "<div>\n",
       "<style scoped>\n",
       "    .dataframe tbody tr th:only-of-type {\n",
       "        vertical-align: middle;\n",
       "    }\n",
       "\n",
       "    .dataframe tbody tr th {\n",
       "        vertical-align: top;\n",
       "    }\n",
       "\n",
       "    .dataframe thead th {\n",
       "        text-align: right;\n",
       "    }\n",
       "</style>\n",
       "<table border=\"1\" class=\"dataframe\">\n",
       "  <thead>\n",
       "    <tr style=\"text-align: right;\">\n",
       "      <th></th>\n",
       "      <th>User Type</th>\n",
       "      <th>Device Category</th>\n",
       "      <th>hotcold</th>\n",
       "      <th>weekdayend</th>\n",
       "      <th>Season</th>\n",
       "      <th>Revenue Per User</th>\n",
       "      <th>weather_category</th>\n",
       "    </tr>\n",
       "  </thead>\n",
       "  <tbody>\n",
       "    <tr>\n",
       "      <th>5903</th>\n",
       "      <td>New Visitor</td>\n",
       "      <td>desklet</td>\n",
       "      <td>Regular</td>\n",
       "      <td>Weekend</td>\n",
       "      <td>Low Season</td>\n",
       "      <td>0.0</td>\n",
       "      <td>8 Clear</td>\n",
       "    </tr>\n",
       "    <tr>\n",
       "      <th>5904</th>\n",
       "      <td>New Visitor</td>\n",
       "      <td>mobile</td>\n",
       "      <td>Regular</td>\n",
       "      <td>Weekend</td>\n",
       "      <td>Low Season</td>\n",
       "      <td>0.0</td>\n",
       "      <td>8 Clear</td>\n",
       "    </tr>\n",
       "    <tr>\n",
       "      <th>5905</th>\n",
       "      <td>New Visitor</td>\n",
       "      <td>desklet</td>\n",
       "      <td>Regular</td>\n",
       "      <td>Weekend</td>\n",
       "      <td>Low Season</td>\n",
       "      <td>0.0</td>\n",
       "      <td>8 Clear</td>\n",
       "    </tr>\n",
       "    <tr>\n",
       "      <th>5906</th>\n",
       "      <td>Returning Visitor</td>\n",
       "      <td>mobile</td>\n",
       "      <td>Regular</td>\n",
       "      <td>Weekend</td>\n",
       "      <td>Low Season</td>\n",
       "      <td>0.0</td>\n",
       "      <td>8 Clear</td>\n",
       "    </tr>\n",
       "    <tr>\n",
       "      <th>5907</th>\n",
       "      <td>Returning Visitor</td>\n",
       "      <td>desklet</td>\n",
       "      <td>Regular</td>\n",
       "      <td>Weekend</td>\n",
       "      <td>Low Season</td>\n",
       "      <td>0.0</td>\n",
       "      <td>8 Clear</td>\n",
       "    </tr>\n",
       "  </tbody>\n",
       "</table>\n",
       "</div>"
      ],
      "text/plain": [
       "              User Type Device Category  hotcold weekdayend      Season  \\\n",
       "5903        New Visitor         desklet  Regular    Weekend  Low Season   \n",
       "5904        New Visitor          mobile  Regular    Weekend  Low Season   \n",
       "5905        New Visitor         desklet  Regular    Weekend  Low Season   \n",
       "5906  Returning Visitor          mobile  Regular    Weekend  Low Season   \n",
       "5907  Returning Visitor         desklet  Regular    Weekend  Low Season   \n",
       "\n",
       "      Revenue Per User weather_category  \n",
       "5903               0.0          8 Clear  \n",
       "5904               0.0          8 Clear  \n",
       "5905               0.0          8 Clear  \n",
       "5906               0.0          8 Clear  \n",
       "5907               0.0          8 Clear  "
      ]
     },
     "execution_count": 335,
     "metadata": {},
     "output_type": "execute_result"
    }
   ],
   "source": [
    "df2.head()"
   ]
  },
  {
   "cell_type": "markdown",
   "metadata": {},
   "source": [
    "## Weather ID / Revenue per User Graph\n",
    "\n",
    "#### This graph is for New York City, with Revenue Per User graphed against weather category from Open Weather Maps.  \n",
    "\n",
    "Catergory 2, which is the umbrella category for thunderstorms, has the highest Ave. Revenue for returning customers.\n",
    "\n",
    "What is curious is that Drizzle (Cat 3) has higher revenue than rain (Cat 4) I think it would be worth exploring how many of the rain category was light rain, before I stripped the trailing two digits that provides more detail about the kind of rain. It might make sense to move light rain to the drizzle bucket, and put more serious rain events (freezing, heavy, extreme rain) into the thunderstoms bucket, and see if there is further divergence.\n",
    "\n",
    "There were also sometimes more than one weather classification in the weather table. Should examine those and see if they are expressed in a particular order (I took only the first one) and if we harvest value from both those values.\n",
    "\n",
    "Once we remedy that and have some data that we think is accurate, we can do a 2 std. dev. above and below average and see if it might make sense to bid more during extreme weather\n"
   ]
  },
  {
   "cell_type": "code",
   "execution_count": 446,
   "metadata": {},
   "outputs": [
    {
     "data": {
      "text/plain": [
       "<matplotlib.axes._subplots.AxesSubplot at 0x7f23387be828>"
      ]
     },
     "execution_count": 446,
     "metadata": {},
     "output_type": "execute_result"
    },
    {
     "data": {
      "image/png": "[encoded data removed]",
      "text/plain": [
       "<matplotlib.figure.Figure at 0x7f2338899208>"
      ]
     },
     "metadata": {},
     "output_type": "display_data"
    }
   ],
   "source": [
    "hot_cold_comparison = df2[df.hotcold!='Regular'].pivot_table(\n",
    "    index=['User Type','hotcold'], \n",
    "    columns='weather_category',values='Revenue Per User', \n",
    "    aggfunc='count')\n",
    "\n",
    "hot_cold_comparison.divide(df2.shape[0]/100).plot.bar()\n",
    "\n",
    "# percentage of total number of records\n",
    "# add another to see % of records by new user. "
   ]
  },
  {
   "cell_type": "code",
   "execution_count": null,
   "metadata": {},
   "outputs": [],
   "source": []
  },
  {
   "cell_type": "code",
   "execution_count": null,
   "metadata": {},
   "outputs": [],
   "source": []
  }
 ],
 "metadata": {
  "kernelspec": {
   "display_name": "Python 3",
   "language": "python",
   "name": "python3"
  },
  "language_info": {
   "codemirror_mode": {
    "name": "ipython",
    "version": 3
   },
   "file_extension": ".py",
   "mimetype": "text/x-python",
   "name": "python",
   "nbconvert_exporter": "python",
   "pygments_lexer": "ipython3",
   "version": "3.5.2"
  }
 },
 "nbformat": 4,
 "nbformat_minor": 2
}
