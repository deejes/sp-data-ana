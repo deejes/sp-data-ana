{
 "cells": [
  {
   "cell_type": "code",
   "execution_count": 1,
   "metadata": {},
   "outputs": [],
   "source": [
    "%matplotlib inline\n",
    "import pandas as pd\n",
    "import seaborn as sns\n",
    "import numpy as np\n",
    "import matplotlib.pyplot as plt\n",
    "import time;  from datetime import datetime\n",
    "plt.rcParams[\"figure.figsize\"] = (15,10)"
   ]
  },
  {
   "cell_type": "code",
   "execution_count": 2,
   "metadata": {},
   "outputs": [],
   "source": [
    "# this will have to come from overall function call. It is the difference in local time from PST.\n",
    "offset_from_pst = 3\n",
    "cost_mobile_user = .28\n",
    "cost_desklet_user = .45"
   ]
  },
  {
   "cell_type": "code",
   "execution_count": 3,
   "metadata": {},
   "outputs": [],
   "source": [
    "nyc = pd.read_csv('gapi_city_data-export-2017-11-30.csv') # read the gapi database\n",
    "nyc.dropna(axis=1, how='all', inplace=True) # drops all columns where all values are NaN\n",
    "nyc.drop(\"Organic Searches\", axis=1,inplace=True) # Drops Column\n",
    "nyc = nyc.loc[nyc['City'] == 1023191] # Selects records only NYC"
   ]
  },
  {
   "cell_type": "code",
   "execution_count": 4,
   "metadata": {},
   "outputs": [],
   "source": [
    "weather = pd.read_csv('open_weather_6cities.csv')  # read the weather database\n",
    "weather.dropna(axis=1, how='all', inplace=True) # drops all columns where all values are NaN\n",
    "weather = weather.loc[weather['city_id'] == 5128581] # Selects records only NYC"
   ]
  },
  {
   "cell_type": "code",
   "execution_count": 25,
   "metadata": {},
   "outputs": [],
   "source": [
    "## check non unique weather rows \n",
    "weather_nonunique= weather\n",
    "a = weather_nonunique['city_id'].astype(str)\n",
    "b = weather_nonunique['dt'].astype(str)\n",
    "weather_nonunique['concatenated'] = a+b\n",
    "# weather_nonunique['concatenated'].value_counts()"
   ]
  },
  {
   "cell_type": "code",
   "execution_count": 5,
   "metadata": {},
   "outputs": [],
   "source": [
    "##Join tables on Unix Time and return df\n",
    "\n",
    "\n",
    "# takes a string  in YYYMMDDHH (nyc(Date Hour)) and returns a Unix Time assuming local time zone for input\n",
    "# this works because (local time on my machine) == (timezone of ga: time{set by ga account preferences}) \n",
    "def unixtimestamp(row):\n",
    "    return int(int(time.mktime(datetime.strptime(row, \"%Y%m%d%H\").timetuple())))\n",
    "\n",
    "# creates new column unix_time in nyc using unixtimestamp\n",
    "nyc['unix_time'] = nyc.apply(lambda row: unixtimestamp(str(row['Date Hour'])), axis=1)\n",
    "\n",
    "# join nyc to weather on unix_time \n",
    "df = nyc.join(weather.set_index('dt'), on='unix_time') "
   ]
  },
  {
   "cell_type": "code",
   "execution_count": 6,
   "metadata": {},
   "outputs": [],
   "source": [
    "#TODO: remove the need for this fix by importing fresh city data.\n",
    "\n",
    "# fix to drop rows where no weather data\n",
    "df = df.dropna(subset=['temp'])"
   ]
  },
  {
   "cell_type": "code",
   "execution_count": 7,
   "metadata": {},
   "outputs": [],
   "source": [
    "## Remove nighttime records\n",
    "\n",
    "## Should we reatin nighttime records in a separate df to see changes there?\n",
    "\n",
    "# night starts at 1 a.m,ends at 7 a.m. These hard coded values come from client.\n",
    "night_start = 1\n",
    "night_end = 6\n",
    "\n",
    "# Adds hour column with only last two digits from Date Hour\n",
    "df['Hour'] = df['Date Hour'].transform(str).str.slice(start=8).transform(int)\n",
    "\n",
    "# function that given target city timezone offset from pst,\n",
    "#returns start and end hours for the night in terms of pst\n",
    "def offset_night_times(night_time,pst_offest):\n",
    "    # if start/end time in pst is premidnight\n",
    "    if night_time - pst_offest < 0:\n",
    "        offset_night_time = 24 + night_time - pst_offest\n",
    "    else:\n",
    "        offset_night_time = night_time - pst_offest\n",
    "    return (offset_night_time)\n",
    "\n",
    "# calls above function and saves start and end of night in local time.\n",
    "offset_night_start = offset_night_times(night_start,offset_from_pst)\n",
    "offset_night_end = offset_night_times(night_end,offset_from_pst)\n",
    "\n",
    "# drops night time values from df. if statement to accommdate possibility that target city night\n",
    "# start is premidnight local time\n",
    "def remove_night_hours_df():\n",
    "    if offset_night_start>offset_night_end:\n",
    "        df.drop(df[(df.Hour >= 22) | (df.Hour<= 3)].index, inplace=True)\n",
    "    else:\n",
    "        df.drop(df[(df.Hour >= 1) & (df.Hour<= 6)].index, inplace=True)\n",
    "\n",
    "remove_night_hours_df()\n",
    "\n",
    "assert df['Hour'].nunique() == 18"
   ]
  },
  {
   "cell_type": "code",
   "execution_count": 8,
   "metadata": {},
   "outputs": [],
   "source": [
    "# Combine desktop and tablet into desklet in Device Category\n",
    "df.loc[:,('Device Category')] = df.loc[:,('Device Category')].replace(to_replace=['desktop','tablet'],value='desklet')"
   ]
  },
  {
   "cell_type": "code",
   "execution_count": 9,
   "metadata": {},
   "outputs": [],
   "source": [
    "def extract_month_from_unix(row):\n",
    "     return int(datetime.fromtimestamp(row).strftime('%m'))\n",
    "    \n",
    "df['Month'] = df['unix_time'].apply(extract_month_from_unix)\n",
    "    \n",
    "def extract_day_from_unix(row):\n",
    "    day = (datetime.fromtimestamp(row).strftime('%A'))\n",
    "    if day == \"Saturday\" or day == \"Sunday\":\n",
    "        return \"Weekend\"\n",
    "    else:\n",
    "        return \"Weekday\""
   ]
  },
  {
   "cell_type": "code",
   "execution_count": 10,
   "metadata": {},
   "outputs": [],
   "source": [
    "high_season = [10,11,12,1,2]\n",
    "def highlow_season(row):\n",
    "    if row in high_season:\n",
    "        return \"High Season\"\n",
    "    else:\n",
    "        return \"Low Season\""
   ]
  },
  {
   "cell_type": "code",
   "execution_count": 11,
   "metadata": {},
   "outputs": [],
   "source": [
    "df['Season'] = df['Month'].apply(highlow_season)"
   ]
  },
  {
   "cell_type": "code",
   "execution_count": 12,
   "metadata": {},
   "outputs": [],
   "source": [
    "df['weekdayend'] = df['unix_time'].apply(extract_day_from_unix)"
   ]
  },
  {
   "cell_type": "code",
   "execution_count": 13,
   "metadata": {},
   "outputs": [],
   "source": [
    "def hotcold(row):\n",
    "    hot = 300\n",
    "    cold = 274\n",
    "    if row >= hot:\n",
    "        return \"Hot\"\n",
    "    elif row < cold:\n",
    "        return \"Cold\"\n",
    "    else:\n",
    "        return \"Regular\""
   ]
  },
  {
   "cell_type": "code",
   "execution_count": 14,
   "metadata": {},
   "outputs": [],
   "source": [
    "df['hotcold'] = df['temp'].apply(hotcold)"
   ]
  },
  {
   "cell_type": "code",
   "execution_count": 16,
   "metadata": {},
   "outputs": [
    {
     "data": {
      "text/plain": [
       "Regular    47500\n",
       "Cold        5690\n",
       "Hot         5679\n",
       "Name: hotcold, dtype: int64"
      ]
     },
     "execution_count": 16,
     "metadata": {},
     "output_type": "execute_result"
    }
   ],
   "source": [
    "df.hotcold.value_counts()"
   ]
  },
  {
   "cell_type": "code",
   "execution_count": 36,
   "metadata": {
    "scrolled": true
   },
   "outputs": [],
   "source": [
    "## Map weather_id to main weather categories\n",
    "\n",
    "def return_first_digit(row):\n",
    "    return (str(row)[0])\n",
    "\n",
    "df['weather_category'] = df.loc[:,('weather_id')].apply(return_first_digit)\n",
    "\n",
    "weather_id_dict = {'2':'2 Thunderstorms','3':'3 Drizzle','5':'5 Rain','6':'6 Snow','7':'7 Atmosphere',\n",
    "                   '8':'8 Clear','9':'9 Extreme'}\n",
    "\n",
    "df = df.replace({'weather_category':weather_id_dict}) "
   ]
  },
  {
   "cell_type": "code",
   "execution_count": 37,
   "metadata": {},
   "outputs": [
    {
     "data": {
      "text/html": [
       "<div>\n",
       "<style scoped>\n",
       "    .dataframe tbody tr th:only-of-type {\n",
       "        vertical-align: middle;\n",
       "    }\n",
       "\n",
       "    .dataframe tbody tr th {\n",
       "        vertical-align: top;\n",
       "    }\n",
       "\n",
       "    .dataframe thead th {\n",
       "        text-align: right;\n",
       "    }\n",
       "</style>\n",
       "<table border=\"1\" class=\"dataframe\">\n",
       "  <thead>\n",
       "    <tr style=\"text-align: right;\">\n",
       "      <th></th>\n",
       "      <th>City</th>\n",
       "      <th>Date Hour</th>\n",
       "      <th>User Type</th>\n",
       "      <th>Device Category</th>\n",
       "      <th>Sessions</th>\n",
       "      <th>Bounces</th>\n",
       "      <th>Users</th>\n",
       "      <th>Transactions</th>\n",
       "      <th>Transaction Revenue</th>\n",
       "      <th>Revenue Per User</th>\n",
       "      <th>...</th>\n",
       "      <th>weather_main</th>\n",
       "      <th>weather_description</th>\n",
       "      <th>weather_icon</th>\n",
       "      <th>Hour</th>\n",
       "      <th>Month</th>\n",
       "      <th>Season</th>\n",
       "      <th>weekdayend</th>\n",
       "      <th>hotcold</th>\n",
       "      <th>weather_id_first_digit</th>\n",
       "      <th>weather_category</th>\n",
       "    </tr>\n",
       "  </thead>\n",
       "  <tbody>\n",
       "    <tr>\n",
       "      <th>5903</th>\n",
       "      <td>1023191</td>\n",
       "      <td>2017070207</td>\n",
       "      <td>New Visitor</td>\n",
       "      <td>desklet</td>\n",
       "      <td>2</td>\n",
       "      <td>1</td>\n",
       "      <td>2</td>\n",
       "      <td>0</td>\n",
       "      <td>0.0</td>\n",
       "      <td>0.0</td>\n",
       "      <td>...</td>\n",
       "      <td>Clear</td>\n",
       "      <td>Sky is Clear</td>\n",
       "      <td>01d</td>\n",
       "      <td>7</td>\n",
       "      <td>7</td>\n",
       "      <td>Low Season</td>\n",
       "      <td>Weekend</td>\n",
       "      <td>Regular</td>\n",
       "      <td>8</td>\n",
       "      <td>8 Clear</td>\n",
       "    </tr>\n",
       "    <tr>\n",
       "      <th>5904</th>\n",
       "      <td>1023191</td>\n",
       "      <td>2017070207</td>\n",
       "      <td>New Visitor</td>\n",
       "      <td>mobile</td>\n",
       "      <td>5</td>\n",
       "      <td>2</td>\n",
       "      <td>5</td>\n",
       "      <td>0</td>\n",
       "      <td>0.0</td>\n",
       "      <td>0.0</td>\n",
       "      <td>...</td>\n",
       "      <td>Clear</td>\n",
       "      <td>Sky is Clear</td>\n",
       "      <td>01d</td>\n",
       "      <td>7</td>\n",
       "      <td>7</td>\n",
       "      <td>Low Season</td>\n",
       "      <td>Weekend</td>\n",
       "      <td>Regular</td>\n",
       "      <td>8</td>\n",
       "      <td>8 Clear</td>\n",
       "    </tr>\n",
       "    <tr>\n",
       "      <th>5905</th>\n",
       "      <td>1023191</td>\n",
       "      <td>2017070207</td>\n",
       "      <td>New Visitor</td>\n",
       "      <td>desklet</td>\n",
       "      <td>3</td>\n",
       "      <td>1</td>\n",
       "      <td>3</td>\n",
       "      <td>0</td>\n",
       "      <td>0.0</td>\n",
       "      <td>0.0</td>\n",
       "      <td>...</td>\n",
       "      <td>Clear</td>\n",
       "      <td>Sky is Clear</td>\n",
       "      <td>01d</td>\n",
       "      <td>7</td>\n",
       "      <td>7</td>\n",
       "      <td>Low Season</td>\n",
       "      <td>Weekend</td>\n",
       "      <td>Regular</td>\n",
       "      <td>8</td>\n",
       "      <td>8 Clear</td>\n",
       "    </tr>\n",
       "    <tr>\n",
       "      <th>5906</th>\n",
       "      <td>1023191</td>\n",
       "      <td>2017070207</td>\n",
       "      <td>Returning Visitor</td>\n",
       "      <td>mobile</td>\n",
       "      <td>3</td>\n",
       "      <td>1</td>\n",
       "      <td>2</td>\n",
       "      <td>0</td>\n",
       "      <td>0.0</td>\n",
       "      <td>0.0</td>\n",
       "      <td>...</td>\n",
       "      <td>Clear</td>\n",
       "      <td>Sky is Clear</td>\n",
       "      <td>01d</td>\n",
       "      <td>7</td>\n",
       "      <td>7</td>\n",
       "      <td>Low Season</td>\n",
       "      <td>Weekend</td>\n",
       "      <td>Regular</td>\n",
       "      <td>8</td>\n",
       "      <td>8 Clear</td>\n",
       "    </tr>\n",
       "    <tr>\n",
       "      <th>5907</th>\n",
       "      <td>1023191</td>\n",
       "      <td>2017070207</td>\n",
       "      <td>Returning Visitor</td>\n",
       "      <td>desklet</td>\n",
       "      <td>1</td>\n",
       "      <td>0</td>\n",
       "      <td>1</td>\n",
       "      <td>0</td>\n",
       "      <td>0.0</td>\n",
       "      <td>0.0</td>\n",
       "      <td>...</td>\n",
       "      <td>Clear</td>\n",
       "      <td>Sky is Clear</td>\n",
       "      <td>01d</td>\n",
       "      <td>7</td>\n",
       "      <td>7</td>\n",
       "      <td>Low Season</td>\n",
       "      <td>Weekend</td>\n",
       "      <td>Regular</td>\n",
       "      <td>8</td>\n",
       "      <td>8 Clear</td>\n",
       "    </tr>\n",
       "  </tbody>\n",
       "</table>\n",
       "<p>5 rows × 37 columns</p>\n",
       "</div>"
      ],
      "text/plain": [
       "         City   Date Hour          User Type Device Category  Sessions  \\\n",
       "5903  1023191  2017070207        New Visitor         desklet         2   \n",
       "5904  1023191  2017070207        New Visitor          mobile         5   \n",
       "5905  1023191  2017070207        New Visitor         desklet         3   \n",
       "5906  1023191  2017070207  Returning Visitor          mobile         3   \n",
       "5907  1023191  2017070207  Returning Visitor         desklet         1   \n",
       "\n",
       "      Bounces  Users  Transactions  Transaction Revenue  Revenue Per User  \\\n",
       "5903        1      2             0                  0.0               0.0   \n",
       "5904        2      5             0                  0.0               0.0   \n",
       "5905        1      3             0                  0.0               0.0   \n",
       "5906        1      2             0                  0.0               0.0   \n",
       "5907        0      1             0                  0.0               0.0   \n",
       "\n",
       "            ...         weather_main  weather_description weather_icon  Hour  \\\n",
       "5903        ...                Clear         Sky is Clear          01d     7   \n",
       "5904        ...                Clear         Sky is Clear          01d     7   \n",
       "5905        ...                Clear         Sky is Clear          01d     7   \n",
       "5906        ...                Clear         Sky is Clear          01d     7   \n",
       "5907        ...                Clear         Sky is Clear          01d     7   \n",
       "\n",
       "      Month      Season  weekdayend  hotcold  weather_id_first_digit  \\\n",
       "5903      7  Low Season     Weekend  Regular                       8   \n",
       "5904      7  Low Season     Weekend  Regular                       8   \n",
       "5905      7  Low Season     Weekend  Regular                       8   \n",
       "5906      7  Low Season     Weekend  Regular                       8   \n",
       "5907      7  Low Season     Weekend  Regular                       8   \n",
       "\n",
       "      weather_category  \n",
       "5903           8 Clear  \n",
       "5904           8 Clear  \n",
       "5905           8 Clear  \n",
       "5906           8 Clear  \n",
       "5907           8 Clear  \n",
       "\n",
       "[5 rows x 37 columns]"
      ]
     },
     "execution_count": 37,
     "metadata": {},
     "output_type": "execute_result"
    }
   ],
   "source": [
    "df.head()"
   ]
  },
  {
   "cell_type": "code",
   "execution_count": 318,
   "metadata": {},
   "outputs": [],
   "source": [
    "# Select columns \n",
    "df2= df[[\"User Type\",'Device Category','Sessions','Transactions', 'Revenue Per User','temp','weather_id']]"
   ]
  },
  {
   "cell_type": "code",
   "execution_count": 24,
   "metadata": {},
   "outputs": [
    {
     "data": {
      "text/html": [
       "<div>\n",
       "<style scoped>\n",
       "    .dataframe tbody tr th:only-of-type {\n",
       "        vertical-align: middle;\n",
       "    }\n",
       "\n",
       "    .dataframe tbody tr th {\n",
       "        vertical-align: top;\n",
       "    }\n",
       "\n",
       "    .dataframe thead th {\n",
       "        text-align: right;\n",
       "    }\n",
       "</style>\n",
       "<table border=\"1\" class=\"dataframe\">\n",
       "  <thead>\n",
       "    <tr style=\"text-align: right;\">\n",
       "      <th></th>\n",
       "      <th>City</th>\n",
       "      <th>Date Hour</th>\n",
       "      <th>User Type</th>\n",
       "      <th>Device Category</th>\n",
       "      <th>Sessions</th>\n",
       "      <th>Bounces</th>\n",
       "      <th>Users</th>\n",
       "      <th>Transactions</th>\n",
       "      <th>Transaction Revenue</th>\n",
       "      <th>Revenue Per User</th>\n",
       "      <th>...</th>\n",
       "      <th>clouds_all</th>\n",
       "      <th>weather_id</th>\n",
       "      <th>weather_main</th>\n",
       "      <th>weather_description</th>\n",
       "      <th>weather_icon</th>\n",
       "      <th>Hour</th>\n",
       "      <th>Month</th>\n",
       "      <th>Season</th>\n",
       "      <th>weekdayend</th>\n",
       "      <th>hotcold</th>\n",
       "    </tr>\n",
       "  </thead>\n",
       "  <tbody>\n",
       "    <tr>\n",
       "      <th>5226780</th>\n",
       "      <td>1023191</td>\n",
       "      <td>2017071521</td>\n",
       "      <td>New Visitor</td>\n",
       "      <td>desklet</td>\n",
       "      <td>4</td>\n",
       "      <td>0</td>\n",
       "      <td>4</td>\n",
       "      <td>0</td>\n",
       "      <td>0.0</td>\n",
       "      <td>0.0</td>\n",
       "      <td>...</td>\n",
       "      <td>20.0</td>\n",
       "      <td>801.0</td>\n",
       "      <td>Clouds</td>\n",
       "      <td>few clouds</td>\n",
       "      <td>02n</td>\n",
       "      <td>21</td>\n",
       "      <td>7</td>\n",
       "      <td>Low Season</td>\n",
       "      <td>Weekend</td>\n",
       "      <td>Regular</td>\n",
       "    </tr>\n",
       "    <tr>\n",
       "      <th>5226781</th>\n",
       "      <td>1023191</td>\n",
       "      <td>2017071521</td>\n",
       "      <td>New Visitor</td>\n",
       "      <td>mobile</td>\n",
       "      <td>14</td>\n",
       "      <td>7</td>\n",
       "      <td>15</td>\n",
       "      <td>0</td>\n",
       "      <td>0.0</td>\n",
       "      <td>0.0</td>\n",
       "      <td>...</td>\n",
       "      <td>20.0</td>\n",
       "      <td>801.0</td>\n",
       "      <td>Clouds</td>\n",
       "      <td>few clouds</td>\n",
       "      <td>02n</td>\n",
       "      <td>21</td>\n",
       "      <td>7</td>\n",
       "      <td>Low Season</td>\n",
       "      <td>Weekend</td>\n",
       "      <td>Regular</td>\n",
       "    </tr>\n",
       "    <tr>\n",
       "      <th>5226782</th>\n",
       "      <td>1023191</td>\n",
       "      <td>2017071521</td>\n",
       "      <td>New Visitor</td>\n",
       "      <td>desklet</td>\n",
       "      <td>1</td>\n",
       "      <td>1</td>\n",
       "      <td>1</td>\n",
       "      <td>0</td>\n",
       "      <td>0.0</td>\n",
       "      <td>0.0</td>\n",
       "      <td>...</td>\n",
       "      <td>20.0</td>\n",
       "      <td>801.0</td>\n",
       "      <td>Clouds</td>\n",
       "      <td>few clouds</td>\n",
       "      <td>02n</td>\n",
       "      <td>21</td>\n",
       "      <td>7</td>\n",
       "      <td>Low Season</td>\n",
       "      <td>Weekend</td>\n",
       "      <td>Regular</td>\n",
       "    </tr>\n",
       "    <tr>\n",
       "      <th>5226783</th>\n",
       "      <td>1023191</td>\n",
       "      <td>2017071521</td>\n",
       "      <td>Returning Visitor</td>\n",
       "      <td>desklet</td>\n",
       "      <td>1</td>\n",
       "      <td>1</td>\n",
       "      <td>1</td>\n",
       "      <td>0</td>\n",
       "      <td>0.0</td>\n",
       "      <td>0.0</td>\n",
       "      <td>...</td>\n",
       "      <td>20.0</td>\n",
       "      <td>801.0</td>\n",
       "      <td>Clouds</td>\n",
       "      <td>few clouds</td>\n",
       "      <td>02n</td>\n",
       "      <td>21</td>\n",
       "      <td>7</td>\n",
       "      <td>Low Season</td>\n",
       "      <td>Weekend</td>\n",
       "      <td>Regular</td>\n",
       "    </tr>\n",
       "    <tr>\n",
       "      <th>5226784</th>\n",
       "      <td>1023191</td>\n",
       "      <td>2017071521</td>\n",
       "      <td>Returning Visitor</td>\n",
       "      <td>mobile</td>\n",
       "      <td>3</td>\n",
       "      <td>2</td>\n",
       "      <td>3</td>\n",
       "      <td>0</td>\n",
       "      <td>0.0</td>\n",
       "      <td>0.0</td>\n",
       "      <td>...</td>\n",
       "      <td>20.0</td>\n",
       "      <td>801.0</td>\n",
       "      <td>Clouds</td>\n",
       "      <td>few clouds</td>\n",
       "      <td>02n</td>\n",
       "      <td>21</td>\n",
       "      <td>7</td>\n",
       "      <td>Low Season</td>\n",
       "      <td>Weekend</td>\n",
       "      <td>Regular</td>\n",
       "    </tr>\n",
       "  </tbody>\n",
       "</table>\n",
       "<p>5 rows × 35 columns</p>\n",
       "</div>"
      ],
      "text/plain": [
       "            City   Date Hour          User Type Device Category  Sessions  \\\n",
       "5226780  1023191  2017071521        New Visitor         desklet         4   \n",
       "5226781  1023191  2017071521        New Visitor          mobile        14   \n",
       "5226782  1023191  2017071521        New Visitor         desklet         1   \n",
       "5226783  1023191  2017071521  Returning Visitor         desklet         1   \n",
       "5226784  1023191  2017071521  Returning Visitor          mobile         3   \n",
       "\n",
       "         Bounces  Users  Transactions  Transaction Revenue  Revenue Per User  \\\n",
       "5226780        0      4             0                  0.0               0.0   \n",
       "5226781        7     15             0                  0.0               0.0   \n",
       "5226782        1      1             0                  0.0               0.0   \n",
       "5226783        1      1             0                  0.0               0.0   \n",
       "5226784        2      3             0                  0.0               0.0   \n",
       "\n",
       "          ...     clouds_all  weather_id weather_main  weather_description  \\\n",
       "5226780   ...           20.0       801.0       Clouds           few clouds   \n",
       "5226781   ...           20.0       801.0       Clouds           few clouds   \n",
       "5226782   ...           20.0       801.0       Clouds           few clouds   \n",
       "5226783   ...           20.0       801.0       Clouds           few clouds   \n",
       "5226784   ...           20.0       801.0       Clouds           few clouds   \n",
       "\n",
       "         weather_icon  Hour  Month      Season  weekdayend  hotcold  \n",
       "5226780           02n    21      7  Low Season     Weekend  Regular  \n",
       "5226781           02n    21      7  Low Season     Weekend  Regular  \n",
       "5226782           02n    21      7  Low Season     Weekend  Regular  \n",
       "5226783           02n    21      7  Low Season     Weekend  Regular  \n",
       "5226784           02n    21      7  Low Season     Weekend  Regular  \n",
       "\n",
       "[5 rows x 35 columns]"
      ]
     },
     "execution_count": 24,
     "metadata": {},
     "output_type": "execute_result"
    }
   ],
   "source": [
    "(df.tail())"
   ]
  },
  {
   "cell_type": "code",
   "execution_count": 321,
   "metadata": {
    "scrolled": true
   },
   "outputs": [],
   "source": [
    "df3 = df2.drop(['Sessions','Transactions'],axis=1)"
   ]
  },
  {
   "cell_type": "code",
   "execution_count": 324,
   "metadata": {},
   "outputs": [],
   "source": [
    "df4 = df3.pivot_table(index='User Type', columns='weather_id',values='Revenue Per User', aggfunc=np.average)"
   ]
  },
  {
   "cell_type": "code",
   "execution_count": 325,
   "metadata": {},
   "outputs": [
    {
     "data": {
      "text/html": [
       "<div>\n",
       "<style scoped>\n",
       "    .dataframe tbody tr th:only-of-type {\n",
       "        vertical-align: middle;\n",
       "    }\n",
       "\n",
       "    .dataframe tbody tr th {\n",
       "        vertical-align: top;\n",
       "    }\n",
       "\n",
       "    .dataframe thead th {\n",
       "        text-align: right;\n",
       "    }\n",
       "</style>\n",
       "<table border=\"1\" class=\"dataframe\">\n",
       "  <thead>\n",
       "    <tr style=\"text-align: right;\">\n",
       "      <th>weather_id</th>\n",
       "      <th>2 Thunderstorms</th>\n",
       "      <th>3 Drizzle</th>\n",
       "      <th>5 Rain</th>\n",
       "      <th>6 Snow</th>\n",
       "      <th>7 Atmosphere</th>\n",
       "      <th>8 Clear</th>\n",
       "    </tr>\n",
       "    <tr>\n",
       "      <th>User Type</th>\n",
       "      <th></th>\n",
       "      <th></th>\n",
       "      <th></th>\n",
       "      <th></th>\n",
       "      <th></th>\n",
       "      <th></th>\n",
       "    </tr>\n",
       "  </thead>\n",
       "  <tbody>\n",
       "    <tr>\n",
       "      <th>New Visitor</th>\n",
       "      <td>1.055845</td>\n",
       "      <td>1.295563</td>\n",
       "      <td>0.951011</td>\n",
       "      <td>1.110757</td>\n",
       "      <td>0.839407</td>\n",
       "      <td>0.908458</td>\n",
       "    </tr>\n",
       "    <tr>\n",
       "      <th>Returning Visitor</th>\n",
       "      <td>2.739967</td>\n",
       "      <td>3.163282</td>\n",
       "      <td>1.927571</td>\n",
       "      <td>2.399073</td>\n",
       "      <td>1.878682</td>\n",
       "      <td>1.985445</td>\n",
       "    </tr>\n",
       "  </tbody>\n",
       "</table>\n",
       "</div>"
      ],
      "text/plain": [
       "weather_id         2 Thunderstorms  3 Drizzle    5 Rain    6 Snow  \\\n",
       "User Type                                                           \n",
       "New Visitor               1.055845   1.295563  0.951011  1.110757   \n",
       "Returning Visitor         2.739967   3.163282  1.927571  2.399073   \n",
       "\n",
       "weather_id         7 Atmosphere   8 Clear  \n",
       "User Type                                  \n",
       "New Visitor            0.839407  0.908458  \n",
       "Returning Visitor      1.878682  1.985445  "
      ]
     },
     "execution_count": 325,
     "metadata": {},
     "output_type": "execute_result"
    }
   ],
   "source": [
    "df4"
   ]
  },
  {
   "cell_type": "code",
   "execution_count": 326,
   "metadata": {},
   "outputs": [],
   "source": [
    "#df4=df4[df4.iloc[-1,:].sort_values(ascending=False).index]\n"
   ]
  },
  {
   "cell_type": "code",
   "execution_count": 327,
   "metadata": {},
   "outputs": [
    {
     "data": {
      "text/plain": [
       "Text(3.5,2.5,'Data without nighttime info')"
      ]
     },
     "execution_count": 327,
     "metadata": {},
     "output_type": "execute_result"
    },
    {
     "data": {
      "image/png": "[encoded data removed]",
      "text/plain": [
       "<matplotlib.figure.Figure at 0x7feb9af40cf8>"
      ]
     },
     "metadata": {},
     "output_type": "display_data"
    }
   ],
   "source": [
    "### Average Revenue per customer \n",
    "d = df4.transpose().plot.bar()\n",
    "plt.ylabel('Revenue Per User in $')\n",
    "plt.xticks(rotation='horizontal')\n",
    "plt.text(3.5,2.5,  'Data without nighttime info', style='italic',\n",
    "        bbox={'facecolor':'red', 'alpha':0.5, 'pad':10})"
   ]
  },
  {
   "cell_type": "code",
   "execution_count": 310,
   "metadata": {},
   "outputs": [
    {
     "data": {
      "text/plain": [
       "Text(3.5,2.5,'Data with nighttime info')"
      ]
     },
     "execution_count": 310,
     "metadata": {},
     "output_type": "execute_result"
    },
    {
     "data": {
      "image/png": "[encoded data removed]",
      "text/plain": [
       "<matplotlib.figure.Figure at 0x7feb9a7f0da0>"
      ]
     },
     "metadata": {},
     "output_type": "display_data"
    }
   ],
   "source": [
    "### Average Revenue per customer \n",
    "d = df4.transpose().plot.bar()\n",
    "plt.ylabel('Revenue Per User in $')\n",
    "plt.xticks(rotation='horizontal')\n",
    "plt.text(3.5,2.5,  'Data with nighttime info', style='italic',\n",
    "        bbox={'facecolor':'red', 'alpha':0.5, 'pad':10})"
   ]
  },
  {
   "cell_type": "markdown",
   "metadata": {},
   "source": [
    "## Weather ID / Revenue per User Graph\n",
    "\n",
    "#### This graph is for New York City, with Revenue Per User graphed against weather category from Open Weather Maps.  \n",
    "\n",
    "Catergory 2, which is the umbrella category for thunderstorms, has the highest Ave. Revenue for returning customers.\n",
    "\n",
    "What is curious is that Drizzle (Cat 3) has higher revenue than rain (Cat 4) I think it would be worth exploring how many of the rain category was light rain, before I stripped the trailing two digits that provides more detail about the kind of rain. It might make sense to move light rain to the drizzle bucket, and put more serious rain events (freezing, heavy, extreme rain) into the thunderstoms bucket, and see if there is further divergence.\n",
    "\n",
    "There were also sometimes more than one weather classification in the weather table. Should examine those and see if they are expressed in a particular order (I took only the first one) and if we harvest value from both those values.\n",
    "\n",
    "Once we remedy that and have some data that we think is accurate, we can do a 2 std. dev. above and below average and see if it might make sense to bid more during extreme weather\n"
   ]
  },
  {
   "cell_type": "code",
   "execution_count": null,
   "metadata": {},
   "outputs": [],
   "source": []
  }
 ],
 "metadata": {
  "kernelspec": {
   "display_name": "Python 3",
   "language": "python",
   "name": "python3"
  },
  "language_info": {
   "codemirror_mode": {
    "name": "ipython",
    "version": 3
   },
   "file_extension": ".py",
   "mimetype": "text/x-python",
   "name": "python",
   "nbconvert_exporter": "python",
   "pygments_lexer": "ipython3",
   "version": "3.5.2"
  }
 },
 "nbformat": 4,
 "nbformat_minor": 2
}
