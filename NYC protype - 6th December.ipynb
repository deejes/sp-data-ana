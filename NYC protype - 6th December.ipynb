{
 "cells": [
  {
   "cell_type": "code",
   "execution_count": 1,
   "metadata": {},
   "outputs": [],
   "source": [
    "%matplotlib inline\n",
    "import pandas as pd\n",
    "import seaborn as sns\n",
    "import numpy as np\n",
    "import matplotlib.pyplot as plt\n",
    "import time;  from datetime import datetime\n",
    "plt.rcParams[\"figure.figsize\"] = (15,10)"
   ]
  },
  {
   "cell_type": "code",
   "execution_count": 2,
   "metadata": {},
   "outputs": [],
   "source": [
    "nyc = pd.read_csv('gapi_city_data-export-2017-11-30.csv') # read the gapi database\n",
    "nyc.dropna(axis=1, how='all', inplace=True) # drops all columns where all values are NaN\n",
    "nyc.drop(\"Organic Searches\", axis=1,inplace=True) # Drops Column\n",
    "nyc = nyc.loc[nyc['City'] == 1023191] # Selects records only NYC"
   ]
  },
  {
   "cell_type": "code",
   "execution_count": 3,
   "metadata": {},
   "outputs": [],
   "source": [
    "weather = pd.read_csv('open_weather_6cities.csv')  # read the weather database\n",
    "weather.dropna(axis=1, how='all', inplace=True) # drops all columns where all values are NaN\n",
    "weather = weather.loc[weather['city_id'] == 5128581] # Selects records only NYC"
   ]
  },
  {
   "cell_type": "code",
   "execution_count": 20,
   "metadata": {},
   "outputs": [],
   "source": [
    "#Join tables on Unix Time\n",
    "\n",
    "\n",
    "# takes a string  in YYYMMDDHH (nyc(Date Hour)) and returns a Unix Time assuming local time zone for input\n",
    "# this works because (local time on my machine) == (timezone of ga: time{set by ga account preferences}) \n",
    "def unixtimestamp(row):\n",
    "    return int(int(time.mktime(datetime.strptime(row, \"%Y%m%d%H\").timetuple())))\n",
    "\n",
    "# creates new column unix_time in nyc using unixtimestamp\n",
    "nyc['unix_time'] = nyc.apply(lambda row: unixtimestamp(str(row['Date Hour'])), axis=1)\n",
    "\n",
    "# join nyc to weather on unix_time \n",
    "df = nyc.join(weather.set_index('dt'), on='unix_time') \n",
    "\n",
    "# fix to drop rows where no weather data\n",
    "df = df.dropna(subset=['temp'])"
   ]
  },
  {
   "cell_type": "code",
   "execution_count": 21,
   "metadata": {},
   "outputs": [],
   "source": [
    "df2= df[[\"User Type\",'Device Category','Sessions','Transactions', 'Revenue Per User','temp','weather_id']]"
   ]
  },
  {
   "cell_type": "code",
   "execution_count": 24,
   "metadata": {},
   "outputs": [
    {
     "data": {
      "text/html": [
       "<div>\n",
       "<style scoped>\n",
       "    .dataframe tbody tr th:only-of-type {\n",
       "        vertical-align: middle;\n",
       "    }\n",
       "\n",
       "    .dataframe tbody tr th {\n",
       "        vertical-align: top;\n",
       "    }\n",
       "\n",
       "    .dataframe thead th {\n",
       "        text-align: right;\n",
       "    }\n",
       "</style>\n",
       "<table border=\"1\" class=\"dataframe\">\n",
       "  <thead>\n",
       "    <tr style=\"text-align: right;\">\n",
       "      <th></th>\n",
       "      <th>User Type</th>\n",
       "      <th>Device Category</th>\n",
       "      <th>Sessions</th>\n",
       "      <th>Transactions</th>\n",
       "      <th>Revenue Per User</th>\n",
       "      <th>temp</th>\n",
       "      <th>weather_id</th>\n",
       "    </tr>\n",
       "  </thead>\n",
       "  <tbody>\n",
       "    <tr>\n",
       "      <th>5882</th>\n",
       "      <td>New Visitor</td>\n",
       "      <td>mobile</td>\n",
       "      <td>3</td>\n",
       "      <td>0</td>\n",
       "      <td>0.0</td>\n",
       "      <td>295.07</td>\n",
       "      <td>701.0</td>\n",
       "    </tr>\n",
       "    <tr>\n",
       "      <th>5883</th>\n",
       "      <td>New Visitor</td>\n",
       "      <td>desklet</td>\n",
       "      <td>1</td>\n",
       "      <td>0</td>\n",
       "      <td>0.0</td>\n",
       "      <td>295.07</td>\n",
       "      <td>701.0</td>\n",
       "    </tr>\n",
       "    <tr>\n",
       "      <th>5884</th>\n",
       "      <td>Returning Visitor</td>\n",
       "      <td>mobile</td>\n",
       "      <td>1</td>\n",
       "      <td>0</td>\n",
       "      <td>0.0</td>\n",
       "      <td>295.07</td>\n",
       "      <td>701.0</td>\n",
       "    </tr>\n",
       "    <tr>\n",
       "      <th>5885</th>\n",
       "      <td>New Visitor</td>\n",
       "      <td>mobile</td>\n",
       "      <td>5</td>\n",
       "      <td>0</td>\n",
       "      <td>0.0</td>\n",
       "      <td>294.84</td>\n",
       "      <td>701.0</td>\n",
       "    </tr>\n",
       "    <tr>\n",
       "      <th>5886</th>\n",
       "      <td>Returning Visitor</td>\n",
       "      <td>desklet</td>\n",
       "      <td>1</td>\n",
       "      <td>0</td>\n",
       "      <td>0.0</td>\n",
       "      <td>294.84</td>\n",
       "      <td>701.0</td>\n",
       "    </tr>\n",
       "  </tbody>\n",
       "</table>\n",
       "</div>"
      ],
      "text/plain": [
       "              User Type Device Category  Sessions  Transactions  \\\n",
       "5882        New Visitor          mobile         3             0   \n",
       "5883        New Visitor         desklet         1             0   \n",
       "5884  Returning Visitor          mobile         1             0   \n",
       "5885        New Visitor          mobile         5             0   \n",
       "5886  Returning Visitor         desklet         1             0   \n",
       "\n",
       "      Revenue Per User    temp  weather_id  \n",
       "5882               0.0  295.07       701.0  \n",
       "5883               0.0  295.07       701.0  \n",
       "5884               0.0  295.07       701.0  \n",
       "5885               0.0  294.84       701.0  \n",
       "5886               0.0  294.84       701.0  "
      ]
     },
     "execution_count": 24,
     "metadata": {},
     "output_type": "execute_result"
    }
   ],
   "source": [
    "df2.head()"
   ]
  },
  {
   "cell_type": "code",
   "execution_count": 23,
   "metadata": {},
   "outputs": [
    {
     "name": "stderr",
     "output_type": "stream",
     "text": [
      "/home/dj/programming/data_env/lib/python3.5/site-packages/pandas/core/indexing.py:537: SettingWithCopyWarning: \n",
      "A value is trying to be set on a copy of a slice from a DataFrame.\n",
      "Try using .loc[row_indexer,col_indexer] = value instead\n",
      "\n",
      "See the caveats in the documentation: http://pandas.pydata.org/pandas-docs/stable/indexing.html#indexing-view-versus-copy\n",
      "  self.obj[item] = s\n"
     ]
    }
   ],
   "source": [
    "df2.loc[:,('Device Category')] = df2.loc[:,('Device Category')].replace(to_replace=['desktop','tablet'],value='desklet')\n"
   ]
  },
  {
   "cell_type": "code",
   "execution_count": 86,
   "metadata": {},
   "outputs": [
    {
     "data": {
      "text/plain": [
       "5882     mobile\n",
       "5883    desklet\n",
       "5884     mobile\n",
       "5885     mobile\n",
       "5886    desklet\n",
       "Name: Device Category, dtype: object"
      ]
     },
     "execution_count": 86,
     "metadata": {},
     "output_type": "execute_result"
    }
   ],
   "source": [
    "df.loc[:,('Device Category')].head()"
   ]
  },
  {
   "cell_type": "code",
   "execution_count": null,
   "metadata": {},
   "outputs": [],
   "source": [
    "\n"
   ]
  },
  {
   "cell_type": "code",
   "execution_count": null,
   "metadata": {},
   "outputs": [],
   "source": []
  },
  {
   "cell_type": "code",
   "execution_count": 39,
   "metadata": {
    "scrolled": true
   },
   "outputs": [],
   "source": [
    "def return_first_digit(row): # takes an int, returns first character as a string\n",
    "    return (str(row)[0])\n",
    "# remove all but the first unit of weather_id int\n",
    "df2['weather_id'] = df2.loc[:,('weather_id')].apply(return_first_digit)"
   ]
  },
  {
   "cell_type": "code",
   "execution_count": 40,
   "metadata": {
    "scrolled": true
   },
   "outputs": [],
   "source": [
    "df3 = df2.drop(['Sessions','Transactions'],axis=1)"
   ]
  },
  {
   "cell_type": "code",
   "execution_count": 41,
   "metadata": {},
   "outputs": [],
   "source": [
    "weather_id_dict = {'2':'2 Thunderstorms','3':'3 Drizzle','5':'5 Rain','6':'6 Snow','7':'7 Atmosphere','8':'8 Clear','9':'9 Extreme'}"
   ]
  },
  {
   "cell_type": "code",
   "execution_count": 42,
   "metadata": {},
   "outputs": [],
   "source": [
    "df3 = df3.replace({'weather_id':weather_id_dict}) "
   ]
  },
  {
   "cell_type": "code",
   "execution_count": 43,
   "metadata": {},
   "outputs": [],
   "source": [
    "df4 = df3.pivot_table(index='User Type', columns='weather_id',values='Revenue Per User', aggfunc=np.average)"
   ]
  },
  {
   "cell_type": "code",
   "execution_count": 44,
   "metadata": {},
   "outputs": [
    {
     "data": {
      "text/html": [
       "<div>\n",
       "<style scoped>\n",
       "    .dataframe tbody tr th:only-of-type {\n",
       "        vertical-align: middle;\n",
       "    }\n",
       "\n",
       "    .dataframe tbody tr th {\n",
       "        vertical-align: top;\n",
       "    }\n",
       "\n",
       "    .dataframe thead th {\n",
       "        text-align: right;\n",
       "    }\n",
       "</style>\n",
       "<table border=\"1\" class=\"dataframe\">\n",
       "  <thead>\n",
       "    <tr style=\"text-align: right;\">\n",
       "      <th>weather_id</th>\n",
       "      <th>2 Thunderstorms</th>\n",
       "      <th>3 Drizzle</th>\n",
       "      <th>5 Rain</th>\n",
       "      <th>6 Snow</th>\n",
       "      <th>7 Atmosphere</th>\n",
       "      <th>8 Clear</th>\n",
       "    </tr>\n",
       "    <tr>\n",
       "      <th>User Type</th>\n",
       "      <th></th>\n",
       "      <th></th>\n",
       "      <th></th>\n",
       "      <th></th>\n",
       "      <th></th>\n",
       "      <th></th>\n",
       "    </tr>\n",
       "  </thead>\n",
       "  <tbody>\n",
       "    <tr>\n",
       "      <th>New Visitor</th>\n",
       "      <td>0.94372</td>\n",
       "      <td>1.161716</td>\n",
       "      <td>0.864628</td>\n",
       "      <td>1.004668</td>\n",
       "      <td>0.781226</td>\n",
       "      <td>0.886482</td>\n",
       "    </tr>\n",
       "  </tbody>\n",
       "</table>\n",
       "</div>"
      ],
      "text/plain": [
       "weather_id   2 Thunderstorms  3 Drizzle    5 Rain    6 Snow  7 Atmosphere  \\\n",
       "User Type                                                                   \n",
       "New Visitor          0.94372   1.161716  0.864628  1.004668      0.781226   \n",
       "\n",
       "weather_id    8 Clear  \n",
       "User Type              \n",
       "New Visitor  0.886482  "
      ]
     },
     "execution_count": 44,
     "metadata": {},
     "output_type": "execute_result"
    }
   ],
   "source": [
    "df4"
   ]
  },
  {
   "cell_type": "code",
   "execution_count": 45,
   "metadata": {},
   "outputs": [],
   "source": [
    "#df4=df4[df4.iloc[-1,:].sort_values(ascending=False).index]\n"
   ]
  },
  {
   "cell_type": "code",
   "execution_count": 46,
   "metadata": {},
   "outputs": [
    {
     "data": {
      "text/plain": [
       "(array([0, 1, 2, 3, 4, 5]), <a list of 6 Text xticklabel objects>)"
      ]
     },
     "execution_count": 46,
     "metadata": {},
     "output_type": "execute_result"
    },
    {
     "data": {
      "image/png": "[encoded data removed]",
      "text/plain": [
       "<matplotlib.figure.Figure at 0x7feded984198>"
      ]
     },
     "metadata": {},
     "output_type": "display_data"
    }
   ],
   "source": [
    "# Average Revenue per customer \n",
    "d = df4.transpose().plot.bar()\n",
    "plt.ylabel('Revenue Per User in $')\n",
    "plt.xticks(rotation='horizontal')\n",
    "\n"
   ]
  },
  {
   "cell_type": "markdown",
   "metadata": {},
   "source": [
    "## Weather ID / Revenue per User Graph\n",
    "\n",
    "#### This graph is for New York City, with Revenue Per User graphed against weather category from Open Weather Maps.  \n",
    "\n",
    "Catergory 2, which is the umbrella category for thunderstorms, has the highest Ave. Revenue for returning customers.\n",
    "\n",
    "What is curious is that Drizzle (Cat 3) has higher revenue than rain (Cat 4) I think it would be worth exploring how many of the rain category was light rain, before I stripped the trailing two digits that provides more detail about the kind of rain. It might make sense to move light rain to the drizzle bucket, and put more serious rain events (freezing, heavy, extreme rain) into the thunderstoms bucket, and see if there is further divergence.\n",
    "\n",
    "There were also sometimes more than one weather classification in the weather table. Should examine those and see if they are expressed in a particular order (I took only the first one) and if we harvest value from both those values.\n",
    "\n",
    "Once we remedy that and have some data that we think is accurate, we can do a 2 std. dev. above and below average and see if it might make sense to bid more during extreme weather\n"
   ]
  },
  {
   "cell_type": "code",
   "execution_count": null,
   "metadata": {},
   "outputs": [],
   "source": []
  }
 ],
 "metadata": {
  "kernelspec": {
   "display_name": "Python 3",
   "language": "python",
   "name": "python3"
  },
  "language_info": {
   "codemirror_mode": {
    "name": "ipython",
    "version": 3
   },
   "file_extension": ".py",
   "mimetype": "text/x-python",
   "name": "python",
   "nbconvert_exporter": "python",
   "pygments_lexer": "ipython3",
   "version": "3.5.2"
  }
 },
 "nbformat": 4,
 "nbformat_minor": 2
}
