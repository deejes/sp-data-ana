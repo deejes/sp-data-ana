{
 "cells": [
  {
   "cell_type": "code",
   "execution_count": 6,
   "metadata": {},
   "outputs": [],
   "source": [
    "import json; import requests; import datetime; import time; import datetime; import csv"
   ]
  },
  {
   "cell_type": "code",
   "execution_count": 190,
   "metadata": {},
   "outputs": [],
   "source": [
    "def set_api_key():\n",
    "    with open(\"dark_sky_api_key.txt\", \"r\") as myfile:\n",
    "        api_key = myfile.readlines()[0][:-1]"
   ]
  },
  {
   "cell_type": "code",
   "execution_count": 186,
   "metadata": {},
   "outputs": [],
   "source": [
    "# takes a single date input in dd/mm/yy format and returns a unix timestamp\n",
    "def date_string_to_unix(date_string):\n",
    "    return (str(int(time.mktime(datetime.datetime.strptime(date_string, \"%d/%m/%Y\").timetuple()))))"
   ]
  },
  {
   "cell_type": "code",
   "execution_count": 214,
   "metadata": {},
   "outputs": [],
   "source": [
    "# return a list of unixtimestamps, one for each day between d1 and d2 specified in the function body\n",
    "def unix_dates_for_year(year):\n",
    "    start_date = date(year, 1, 1)  # start date\n",
    "    end_date = date(year, 12, 31)  # end date\n",
    "    delta = end_date - start_date      # timedelta\n",
    "    dates = [(start_date + datetime.timedelta(days=i)) for i in range(delta.days + 1)]\n",
    "    dates = [x.strftime('%d/%m/%Y') for x in dates]\n",
    "    unix_dates  = [date_string_to_unix(dates[x]) for x in range(len(dates))]\n",
    "    return unix_dates"
   ]
  },
  {
   "cell_type": "code",
   "execution_count": 216,
   "metadata": {},
   "outputs": [],
   "source": [
    "unix_dates_2016 = unix_dates_for_year(2016)"
   ]
  },
  {
   "cell_type": "code",
   "execution_count": null,
   "metadata": {},
   "outputs": [],
   "source": [
    "# takes a timestamp, a lat and long, and returns a url string for a darksky request\n",
    "def url_for_day(unix_timestamp,latitude,longitude):\n",
    "    base_url = 'https://api.darksky.net/forecast/'\n",
    "    flags = '?exclude=currently,flags,hourly'\n",
    "    units = '&units=si'\n",
    "    url = \"{:s}{:s}/{:s},{:s},{:s}{:s}{:s}\".format(base_url,api_key,latitude,longitude,unix_timestamp,flags,units)\n",
    "    return url"
   ]
  },
  {
   "cell_type": "code",
   "execution_count": 196,
   "metadata": {},
   "outputs": [],
   "source": [
    "response = requests.get(url)"
   ]
  },
  {
   "cell_type": "code",
   "execution_count": 201,
   "metadata": {},
   "outputs": [],
   "source": [
    "def initialize_csv_file_with_headers(api_responce_for_day):\n",
    "    json_data = json.loads(api_responce_for_day.text)\n",
    "    keys = list(json_data['daily']['data'][0].keys())\n",
    "    with open('2016_weather_data.txt', 'w') as myfile:\n",
    "        wr = csv.writer(myfile, quoting=csv.QUOTE_ALL)\n",
    "        wr.writerow(keys)"
   ]
  },
  {
   "cell_type": "code",
   "execution_count": 202,
   "metadata": {},
   "outputs": [],
   "source": [
    "def append_daily_data(api_responce_for_day):\n",
    "    json_data = json.loads(api_responce_for_day.text)\n",
    "    values = list(json_data['daily']['data'][0].values())\n",
    "    with open('2016_weather_data.txt', 'a') as myfile:\n",
    "        wr = csv.writer(myfile, quoting=csv.QUOTE_ALL)\n",
    "        wr.writerow(values)"
   ]
  },
  {
   "cell_type": "code",
   "execution_count": 180,
   "metadata": {},
   "outputs": [],
   "source": [
    "def csv_weather_data_for_year:\n",
    "    nyc = {'lat':'42.3601','long':'71.0589'}"
   ]
  }
 ],
 "metadata": {
  "kernelspec": {
   "display_name": "Python 3",
   "language": "python",
   "name": "python3"
  },
  "language_info": {
   "codemirror_mode": {
    "name": "ipython",
    "version": 3
   },
   "file_extension": ".py",
   "mimetype": "text/x-python",
   "name": "python",
   "nbconvert_exporter": "python",
   "pygments_lexer": "ipython3",
   "version": "3.5.2"
  }
 },
 "nbformat": 4,
 "nbformat_minor": 2
}
