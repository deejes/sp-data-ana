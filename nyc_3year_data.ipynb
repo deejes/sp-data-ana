{
 "cells": [
  {
   "cell_type": "code",
   "execution_count": 54,
   "metadata": {},
   "outputs": [],
   "source": [
    "import json; import requests; import datetime; import time; import datetime; import csv"
   ]
  },
  {
   "cell_type": "code",
   "execution_count": 99,
   "metadata": {},
   "outputs": [],
   "source": [
    "date = \"01/01/2016\""
   ]
  },
  {
   "cell_type": "code",
   "execution_count": 128,
   "metadata": {},
   "outputs": [],
   "source": [
    "t = str(int(time.mktime(datetime.datetime.strptime(date, \"%d/%m/%Y\").timetuple())))"
   ]
  },
  {
   "cell_type": "code",
   "execution_count": 129,
   "metadata": {},
   "outputs": [
    {
     "data": {
      "text/plain": [
       "'1451635200'"
      ]
     },
     "execution_count": 129,
     "metadata": {},
     "output_type": "execute_result"
    }
   ],
   "source": [
    "t"
   ]
  },
  {
   "cell_type": "code",
   "execution_count": 105,
   "metadata": {},
   "outputs": [],
   "source": [
    "# set api_key\n",
    "with open(\"dark_sky_api_key.txt\", \"r\") as myfile:\n",
    "    api_key = myfile.readlines()[0][:-1]"
   ]
  },
  {
   "cell_type": "code",
   "execution_count": 110,
   "metadata": {},
   "outputs": [],
   "source": [
    "nyc = {'lat':'42.3601','long':'71.0589'}"
   ]
  },
  {
   "cell_type": "code",
   "execution_count": 106,
   "metadata": {},
   "outputs": [],
   "source": [
    "base_url = 'https://api.darksky.net/forecast/'"
   ]
  },
  {
   "cell_type": "code",
   "execution_count": 138,
   "metadata": {},
   "outputs": [],
   "source": [
    "flags = '?exclude=currently,flags,hourly'"
   ]
  },
  {
   "cell_type": "code",
   "execution_count": 139,
   "metadata": {},
   "outputs": [],
   "source": [
    "url = \"{:s}{:s}/{:s},{:s},{:s}{:s}\".format(base_url,api_key,nyc['lat'], nyc['long'],str(t),flags)"
   ]
  },
  {
   "cell_type": "code",
   "execution_count": 140,
   "metadata": {},
   "outputs": [],
   "source": [
    "response = requests.get(url)"
   ]
  },
  {
   "cell_type": "code",
   "execution_count": 141,
   "metadata": {},
   "outputs": [],
   "source": [
    "json_data = json.loads(response.text)"
   ]
  },
  {
   "cell_type": "code",
   "execution_count": 142,
   "metadata": {},
   "outputs": [
    {
     "data": {
      "text/plain": [
       "{'daily': {'data': [{'apparentTemperatureHigh': 55.95,\n",
       "    'apparentTemperatureHighTime': 1451635200,\n",
       "    'apparentTemperatureLow': 36.02,\n",
       "    'apparentTemperatureLowTime': 1451696400,\n",
       "    'apparentTemperatureMax': 55.95,\n",
       "    'apparentTemperatureMaxTime': 1451635200,\n",
       "    'apparentTemperatureMin': 36.11,\n",
       "    'apparentTemperatureMinTime': 1451606400,\n",
       "    'cloudCover': 0.19,\n",
       "    'dewPoint': 35.17,\n",
       "    'humidity': 0.67,\n",
       "    'icon': 'clear-day',\n",
       "    'moonPhase': 0.72,\n",
       "    'precipType': 'rain',\n",
       "    'pressure': 1022.64,\n",
       "    'summary': 'Clear throughout the day.',\n",
       "    'sunriseTime': 1451616370,\n",
       "    'sunsetTime': 1451649240,\n",
       "    'temperatureHigh': 55.95,\n",
       "    'temperatureHighTime': 1451635200,\n",
       "    'temperatureLow': 37.54,\n",
       "    'temperatureLowTime': 1451692800,\n",
       "    'temperatureMax': 55.95,\n",
       "    'temperatureMaxTime': 1451635200,\n",
       "    'temperatureMin': 39.64,\n",
       "    'temperatureMinTime': 1451660400,\n",
       "    'time': 1451584800,\n",
       "    'uvIndex': 2,\n",
       "    'uvIndexTime': 1451631600,\n",
       "    'visibility': 6.08,\n",
       "    'windBearing': 206,\n",
       "    'windSpeed': 4.06}]},\n",
       " 'latitude': 42.3601,\n",
       " 'longitude': 71.0589,\n",
       " 'offset': 6,\n",
       " 'timezone': 'Asia/Almaty'}"
      ]
     },
     "execution_count": 142,
     "metadata": {},
     "output_type": "execute_result"
    }
   ],
   "source": [
    "json_data"
   ]
  },
  {
   "cell_type": "code",
   "execution_count": 145,
   "metadata": {},
   "outputs": [],
   "source": [
    "with open('data.txt', 'w') as myfile:\n",
    "    wr = csv.writer(myfile, quoting=csv.QUOTE_ALL)\n",
    "    wr.writerow(values)"
   ]
  },
  {
   "cell_type": "code",
   "execution_count": 72,
   "metadata": {},
   "outputs": [
    {
     "data": {
      "text/plain": [
       "dict"
      ]
     },
     "execution_count": 72,
     "metadata": {},
     "output_type": "execute_result"
    }
   ],
   "source": []
  },
  {
   "cell_type": "code",
   "execution_count": 144,
   "metadata": {},
   "outputs": [],
   "source": [
    "values = list(json_data['daily']['data'][0].values())"
   ]
  },
  {
   "cell_type": "code",
   "execution_count": 89,
   "metadata": {},
   "outputs": [],
   "source": [
    "values.append('/n')"
   ]
  }
 ],
 "metadata": {
  "kernelspec": {
   "display_name": "Python 3",
   "language": "python",
   "name": "python3"
  },
  "language_info": {
   "codemirror_mode": {
    "name": "ipython",
    "version": 3
   },
   "file_extension": ".py",
   "mimetype": "text/x-python",
   "name": "python",
   "nbconvert_exporter": "python",
   "pygments_lexer": "ipython3",
   "version": "3.5.2"
  }
 },
 "nbformat": 4,
 "nbformat_minor": 2
}
