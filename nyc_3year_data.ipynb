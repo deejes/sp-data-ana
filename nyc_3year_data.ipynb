{
 "cells": [
  {
   "cell_type": "code",
   "execution_count": 6,
   "metadata": {},
   "outputs": [],
   "source": [
    "import json; import requests; import datetime; import time; import datetime; import csv"
   ]
  },
  {
   "cell_type": "code",
   "execution_count": 190,
   "metadata": {},
   "outputs": [],
   "source": [
    "def set_api_key():\n",
    "    with open(\"dark_sky_api_key.txt\", \"r\") as myfile:\n",
    "        api_key = myfile.readlines()[0][:-1]"
   ]
  },
  {
   "cell_type": "code",
   "execution_count": 186,
   "metadata": {},
   "outputs": [],
   "source": [
    "# takes a single date input in dd/mm/yy format and returns a unix timestamp\n",
    "def date_string_to_unix(date_string):\n",
    "    return (str(int(time.mktime(datetime.datetime.strptime(date_string, \"%d/%m/%Y\").timetuple()))))"
   ]
  },
  {
   "cell_type": "code",
   "execution_count": 214,
   "metadata": {},
   "outputs": [],
   "source": [
    "# return a list of unixtimestamps, one for each day between d1 and d2 specified in the function body\n",
    "def unix_dates_for_year(year):\n",
    "    start_date = date(year, 1, 1)  # start date\n",
    "    end_date = date(year, 12, 31)  # end date\n",
    "    delta = end_date - start_date      # timedelta\n",
    "    dates = [(start_date + datetime.timedelta(days=i)) for i in range(delta.days + 1)]\n",
    "    dates = [x.strftime('%d/%m/%Y') for x in dates]\n",
    "    unix_dates  = [date_string_to_unix(dates[x]) for x in range(len(dates))]\n",
    "    return unix_dates"
   ]
  },
  {
   "cell_type": "code",
   "execution_count": 221,
   "metadata": {},
   "outputs": [],
   "source": [
    "# takes a timestamp, a lat and long, and returns a url string for a darksky request\n",
    "def url_for_day(unix_timestamp,latitude,longitude):\n",
    "    base_url = 'https://api.darksky.net/forecast/'\n",
    "    flags = '?exclude=currently,flags,hourly'\n",
    "    units = '&units=si'\n",
    "    url = \"{:s}{:s}/{:s},{:s},{:s}{:s}{:s}\".format(base_url,api_key,latitude,longitude,unix_timestamp,flags,units)\n",
    "    return url"
   ]
  },
  {
   "cell_type": "code",
   "execution_count": null,
   "metadata": {},
   "outputs": [],
   "source": [
    "def set_csv_filename(year):\n",
    "    return \"{:s}_weather_data.txt\".format(str(year))"
   ]
  },
  {
   "cell_type": "code",
   "execution_count": 220,
   "metadata": {},
   "outputs": [],
   "source": [
    "def initialize_csv_file_with_headers(api_response_for_day,year):\n",
    "    json_data = json.loads(api_responce_for_day.text)\n",
    "    keys = list(json_data['daily']['data'][0].keys())\n",
    "    filename = set_csv_filename(year)\n",
    "    with open(filename, 'w') as myfile:\n",
    "        wr = csv.writer(myfile, quoting=csv.QUOTE_ALL)\n",
    "        wr.writerow(keys)"
   ]
  },
  {
   "cell_type": "code",
   "execution_count": 202,
   "metadata": {},
   "outputs": [],
   "source": [
    "def append_daily_data(api_responce_for_day):\n",
    "    json_data = json.loads(api_response_for_day.text)\n",
    "    values = list(json_data['daily']['data'][0].values())\n",
    "    with open('2016_weather_data.txt', 'a') as myfile:\n",
    "        wr = csv.writer(myfile, quoting=csv.QUOTE_ALL)\n",
    "        wr.writerow(values)"
   ]
  },
  {
   "cell_type": "code",
   "execution_count": 219,
   "metadata": {},
   "outputs": [
    {
     "ename": "SyntaxError",
     "evalue": "unexpected EOF while parsing (<ipython-input-219-12d6ba5bfe93>, line 4)",
     "output_type": "error",
     "traceback": [
      "\u001b[0;36m  File \u001b[0;32m\"<ipython-input-219-12d6ba5bfe93>\"\u001b[0;36m, line \u001b[0;32m4\u001b[0m\n\u001b[0;31m    initialize_csv_file_with_headers(requests.get(url_for_day(unix_dates[0],nyc.lat,nyc.long))\u001b[0m\n\u001b[0m                                                                                              ^\u001b[0m\n\u001b[0;31mSyntaxError\u001b[0m\u001b[0;31m:\u001b[0m unexpected EOF while parsing\n"
     ]
    }
   ],
   "source": [
    "def csv_weather_data_for_year(year):\n",
    "    nyc = {'lat':'42.3601','long':'71.0589'}\n",
    "    unix_dates = unix_dates_for_year(year)\n",
    "    initialize_csv_file_with_headers(requests.get(url_for_day(unix_dates[0],nyc.lat,nyc.long))"
   ]
  },
  {
   "cell_type": "code",
   "execution_count": null,
   "metadata": {},
   "outputs": [],
   "source": []
  },
  {
   "cell_type": "code",
   "execution_count": null,
   "metadata": {},
   "outputs": [],
   "source": []
  }
 ],
 "metadata": {
  "kernelspec": {
   "display_name": "Python 3",
   "language": "python",
   "name": "python3"
  },
  "language_info": {
   "codemirror_mode": {
    "name": "ipython",
    "version": 3
   },
   "file_extension": ".py",
   "mimetype": "text/x-python",
   "name": "python",
   "nbconvert_exporter": "python",
   "pygments_lexer": "ipython3",
   "version": "3.5.2"
  }
 },
 "nbformat": 4,
 "nbformat_minor": 2
}
