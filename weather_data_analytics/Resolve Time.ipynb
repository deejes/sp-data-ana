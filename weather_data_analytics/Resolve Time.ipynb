{
 "cells": [
  {
   "cell_type": "markdown",
   "metadata": {},
   "source": [
    "## GAPI DATASET\n",
    "Contains field DateHour  \n",
    "eg - 2017070200  \n",
    "tz - Pacific Time Does have DST  \n",
    "\n",
    "## OpenWeather Dataset\n",
    "Contains Unix timestamp and iso_time String  \n",
    "dt - 1420070400\n",
    "dt_iso - '2015-01-01 00:00:00 +0000 UTC'\n",
    "\n",
    "\n",
    "In the end, we want a join on the dfs, and time in Pacific Time.\n",
    "\n",
    "Its very easy to convert a unix timestamp to local time, so we can convert the GAPI  \n",
    "dataset into unix time and then join, and convert the join timestamp to PST."
   ]
  },
  {
   "cell_type": "code",
   "execution_count": 4,
   "metadata": {},
   "outputs": [],
   "source": [
    "import time;import datetime\n"
   ]
  },
  {
   "cell_type": "code",
   "execution_count": 26,
   "metadata": {},
   "outputs": [],
   "source": [
    "t = str(2017070200)"
   ]
  },
  {
   "cell_type": "code",
   "execution_count": 12,
   "metadata": {},
   "outputs": [
    {
     "data": {
      "text/plain": [
       "1498978800.0"
      ]
     },
     "execution_count": 12,
     "metadata": {},
     "output_type": "execute_result"
    }
   ],
   "source": [
    "time.mktime(datetime.datetime.strptime(t, \"%Y%m%d%H\").timetuple())"
   ]
  },
  {
   "cell_type": "markdown",
   "metadata": {},
   "source": [
    "strptime(2017070200) = 1498978800 \n",
    "\n",
    "So strptime is assuming that the timezone is local time.  \n",
    "Anyone running in the future will have to make sure local time on their machine is set to PST\n",
    "\n",
    "EpochConverter says -   \n",
    "1498978800 = GMT: Sunday, 2 July 2017 07:00:00  \n",
    "1498978800 = Your time zone: Sunday, 2 July 2017 00:00:00 GMT-07:00 DST\n",
    "\n",
    "Weather Table has this for 1498978800\n",
    "\n",
    "<table border=\"1\" class=\"dataframe\">\n",
    "  <thead>\n",
    "    <tr style=\"text-align: right;\">\n",
    "      <th></th>\n",
    "      <th>dt</th>\n",
    "      <th>dt_iso</th>\n",
    "      <th>temp</th>\n",
    "      <th>weather_id</th>\n",
    "      <th>weather_main</th>\n",
    "    </tr>\n",
    "  </thead>\n",
    "  <tbody>\n",
    "    <tr>\n",
    "      <th>44955</th>\n",
    "      <td>1498978800</td>\n",
    "      <td>2017-07-02 07:00:00 +0000 UTC</td>\n",
    "      <td>295.07</td>\n",
    "      <td>701</td>\n",
    "      <td>Mist</td>\n",
    "    </tr>\n",
    "  </tbody>\n",
    "</table>\n",
    "\n",
    "\n",
    "### So we're good! As long as local time for machine doing this calculation is set to PST. a direct mapping on unix timestamps will work because strptime uses local time (time.tzname) , and local time for me is the same as the google analytics account, which is what sets the timezone for the GAPI reports"
   ]
  },
  {
   "cell_type": "code",
   "execution_count": 54,
   "metadata": {},
   "outputs": [
    {
     "data": {
      "text/plain": [
       "('PST', 'PDT')"
      ]
     },
     "execution_count": 54,
     "metadata": {},
     "output_type": "execute_result"
    }
   ],
   "source": [
    "import time\n",
    "time.tzname"
   ]
  }
 ],
 "metadata": {
  "kernelspec": {
   "display_name": "Python 3",
   "language": "python",
   "name": "python3"
  },
  "language_info": {
   "codemirror_mode": {
    "name": "ipython",
    "version": 3
   },
   "file_extension": ".py",
   "mimetype": "text/x-python",
   "name": "python",
   "nbconvert_exporter": "python",
   "pygments_lexer": "ipython3",
   "version": "3.5.2"
  }
 },
 "nbformat": 4,
 "nbformat_minor": 2
}
