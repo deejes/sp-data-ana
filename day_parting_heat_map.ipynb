{
 "cells": [
  {
   "cell_type": "code",
   "execution_count": 104,
   "metadata": {},
   "outputs": [],
   "source": [
    "%matplotlib inline"
   ]
  },
  {
   "cell_type": "code",
   "execution_count": 105,
   "metadata": {},
   "outputs": [],
   "source": [
    "import pandas as pd"
   ]
  },
  {
   "cell_type": "code",
   "execution_count": 106,
   "metadata": {},
   "outputs": [],
   "source": [
    "import seaborn as sns"
   ]
  },
  {
   "cell_type": "code",
   "execution_count": 107,
   "metadata": {},
   "outputs": [],
   "source": [
    "import numpy as np"
   ]
  },
  {
   "cell_type": "code",
   "execution_count": 108,
   "metadata": {},
   "outputs": [],
   "source": [
    "import matplotlib.pyplot as plt"
   ]
  },
  {
   "cell_type": "code",
   "execution_count": 109,
   "metadata": {},
   "outputs": [],
   "source": [
    "df = pd.read_excel('DAY_PARTING_BATCH_TABLE.xlsx', sheet_name='Sheet0')"
   ]
  },
  {
   "cell_type": "code",
   "execution_count": 110,
   "metadata": {},
   "outputs": [],
   "source": [
    "df.dropna(axis=1, how='all', inplace=True) # drops all columns where all values are NaN"
   ]
  },
  {
   "cell_type": "code",
   "execution_count": 111,
   "metadata": {
    "scrolled": true
   },
   "outputs": [],
   "source": [
    "df.drop(['Campaign','Account','Unnamed: 19','#a.d.sxty old geos'],axis=1,inplace=True) # drop some needless data"
   ]
  },
  {
   "cell_type": "code",
   "execution_count": 120,
   "metadata": {
    "scrolled": true
   },
   "outputs": [],
   "source": [
    "df2 = df[['Day of the week', 'Hour of the day','Conversions']] # retain only conversions for now"
   ]
  },
  {
   "cell_type": "code",
   "execution_count": 121,
   "metadata": {},
   "outputs": [],
   "source": [
    "df2.columns = ['day','hour','conversions'] # rename to make column names shorter"
   ]
  },
  {
   "cell_type": "code",
   "execution_count": 122,
   "metadata": {},
   "outputs": [],
   "source": [
    "days_index_dict = {'Monday':0,'Tuesday':1,\"Wednesday\":2,\"Thursday\":3,\"Friday\":4,\"Saturday\":5,\"Sunday\":6}"
   ]
  },
  {
   "cell_type": "code",
   "execution_count": 123,
   "metadata": {},
   "outputs": [],
   "source": [
    "df2 = df2.replace({'day':days_index_dict}) "
   ]
  },
  {
   "cell_type": "markdown",
   "metadata": {},
   "source": [
    "## I am trying to get a heat map for conversions.\n",
    " It will indicate what time people are generally buying\n",
    "Hours are PST, but main cities are on East coast, so we should add a 3 hours as a rough fix right now. We can refine this later."
   ]
  },
  {
   "cell_type": "code",
   "execution_count": 124,
   "metadata": {},
   "outputs": [],
   "source": [
    "df3 = df2.pivot_table(index='day', columns='hour',values='conversions', aggfunc=np.sum)"
   ]
  },
  {
   "cell_type": "code",
   "execution_count": 125,
   "metadata": {},
   "outputs": [
    {
     "data": {
      "text/html": [
       "<div>\n",
       "<style scoped>\n",
       "    .dataframe tbody tr th:only-of-type {\n",
       "        vertical-align: middle;\n",
       "    }\n",
       "\n",
       "    .dataframe tbody tr th {\n",
       "        vertical-align: top;\n",
       "    }\n",
       "\n",
       "    .dataframe thead th {\n",
       "        text-align: right;\n",
       "    }\n",
       "</style>\n",
       "<table border=\"1\" class=\"dataframe\">\n",
       "  <thead>\n",
       "    <tr style=\"text-align: right;\">\n",
       "      <th>hour</th>\n",
       "      <th>0</th>\n",
       "      <th>1</th>\n",
       "      <th>2</th>\n",
       "      <th>3</th>\n",
       "      <th>4</th>\n",
       "      <th>5</th>\n",
       "      <th>6</th>\n",
       "      <th>7</th>\n",
       "      <th>8</th>\n",
       "      <th>9</th>\n",
       "      <th>...</th>\n",
       "      <th>14</th>\n",
       "      <th>15</th>\n",
       "      <th>16</th>\n",
       "      <th>17</th>\n",
       "      <th>18</th>\n",
       "      <th>19</th>\n",
       "      <th>20</th>\n",
       "      <th>21</th>\n",
       "      <th>22</th>\n",
       "      <th>23</th>\n",
       "    </tr>\n",
       "    <tr>\n",
       "      <th>day</th>\n",
       "      <th></th>\n",
       "      <th></th>\n",
       "      <th></th>\n",
       "      <th></th>\n",
       "      <th></th>\n",
       "      <th></th>\n",
       "      <th></th>\n",
       "      <th></th>\n",
       "      <th></th>\n",
       "      <th></th>\n",
       "      <th></th>\n",
       "      <th></th>\n",
       "      <th></th>\n",
       "      <th></th>\n",
       "      <th></th>\n",
       "      <th></th>\n",
       "      <th></th>\n",
       "      <th></th>\n",
       "      <th></th>\n",
       "      <th></th>\n",
       "      <th></th>\n",
       "    </tr>\n",
       "  </thead>\n",
       "  <tbody>\n",
       "    <tr>\n",
       "      <th>0</th>\n",
       "      <td>54</td>\n",
       "      <td>30</td>\n",
       "      <td>17</td>\n",
       "      <td>29</td>\n",
       "      <td>48</td>\n",
       "      <td>72</td>\n",
       "      <td>74</td>\n",
       "      <td>105</td>\n",
       "      <td>154</td>\n",
       "      <td>121</td>\n",
       "      <td>...</td>\n",
       "      <td>129</td>\n",
       "      <td>183</td>\n",
       "      <td>194</td>\n",
       "      <td>214</td>\n",
       "      <td>176</td>\n",
       "      <td>249</td>\n",
       "      <td>147</td>\n",
       "      <td>187</td>\n",
       "      <td>77</td>\n",
       "      <td>85</td>\n",
       "    </tr>\n",
       "    <tr>\n",
       "      <th>1</th>\n",
       "      <td>71</td>\n",
       "      <td>29</td>\n",
       "      <td>54</td>\n",
       "      <td>40</td>\n",
       "      <td>42</td>\n",
       "      <td>47</td>\n",
       "      <td>91</td>\n",
       "      <td>71</td>\n",
       "      <td>86</td>\n",
       "      <td>142</td>\n",
       "      <td>...</td>\n",
       "      <td>154</td>\n",
       "      <td>138</td>\n",
       "      <td>168</td>\n",
       "      <td>182</td>\n",
       "      <td>176</td>\n",
       "      <td>179</td>\n",
       "      <td>239</td>\n",
       "      <td>152</td>\n",
       "      <td>129</td>\n",
       "      <td>84</td>\n",
       "    </tr>\n",
       "    <tr>\n",
       "      <th>2</th>\n",
       "      <td>43</td>\n",
       "      <td>20</td>\n",
       "      <td>27</td>\n",
       "      <td>28</td>\n",
       "      <td>49</td>\n",
       "      <td>59</td>\n",
       "      <td>66</td>\n",
       "      <td>56</td>\n",
       "      <td>84</td>\n",
       "      <td>136</td>\n",
       "      <td>...</td>\n",
       "      <td>197</td>\n",
       "      <td>146</td>\n",
       "      <td>127</td>\n",
       "      <td>173</td>\n",
       "      <td>151</td>\n",
       "      <td>176</td>\n",
       "      <td>128</td>\n",
       "      <td>103</td>\n",
       "      <td>90</td>\n",
       "      <td>88</td>\n",
       "    </tr>\n",
       "    <tr>\n",
       "      <th>3</th>\n",
       "      <td>34</td>\n",
       "      <td>31</td>\n",
       "      <td>27</td>\n",
       "      <td>35</td>\n",
       "      <td>78</td>\n",
       "      <td>42</td>\n",
       "      <td>56</td>\n",
       "      <td>65</td>\n",
       "      <td>97</td>\n",
       "      <td>185</td>\n",
       "      <td>...</td>\n",
       "      <td>146</td>\n",
       "      <td>136</td>\n",
       "      <td>136</td>\n",
       "      <td>147</td>\n",
       "      <td>191</td>\n",
       "      <td>190</td>\n",
       "      <td>117</td>\n",
       "      <td>110</td>\n",
       "      <td>85</td>\n",
       "      <td>66</td>\n",
       "    </tr>\n",
       "    <tr>\n",
       "      <th>4</th>\n",
       "      <td>74</td>\n",
       "      <td>14</td>\n",
       "      <td>23</td>\n",
       "      <td>29</td>\n",
       "      <td>26</td>\n",
       "      <td>60</td>\n",
       "      <td>66</td>\n",
       "      <td>62</td>\n",
       "      <td>153</td>\n",
       "      <td>92</td>\n",
       "      <td>...</td>\n",
       "      <td>123</td>\n",
       "      <td>228</td>\n",
       "      <td>88</td>\n",
       "      <td>149</td>\n",
       "      <td>130</td>\n",
       "      <td>155</td>\n",
       "      <td>214</td>\n",
       "      <td>128</td>\n",
       "      <td>100</td>\n",
       "      <td>56</td>\n",
       "    </tr>\n",
       "    <tr>\n",
       "      <th>5</th>\n",
       "      <td>62</td>\n",
       "      <td>14</td>\n",
       "      <td>29</td>\n",
       "      <td>21</td>\n",
       "      <td>39</td>\n",
       "      <td>40</td>\n",
       "      <td>51</td>\n",
       "      <td>91</td>\n",
       "      <td>120</td>\n",
       "      <td>168</td>\n",
       "      <td>...</td>\n",
       "      <td>153</td>\n",
       "      <td>133</td>\n",
       "      <td>162</td>\n",
       "      <td>181</td>\n",
       "      <td>152</td>\n",
       "      <td>121</td>\n",
       "      <td>150</td>\n",
       "      <td>154</td>\n",
       "      <td>99</td>\n",
       "      <td>65</td>\n",
       "    </tr>\n",
       "    <tr>\n",
       "      <th>6</th>\n",
       "      <td>50</td>\n",
       "      <td>39</td>\n",
       "      <td>27</td>\n",
       "      <td>24</td>\n",
       "      <td>46</td>\n",
       "      <td>48</td>\n",
       "      <td>80</td>\n",
       "      <td>97</td>\n",
       "      <td>92</td>\n",
       "      <td>119</td>\n",
       "      <td>...</td>\n",
       "      <td>217</td>\n",
       "      <td>200</td>\n",
       "      <td>199</td>\n",
       "      <td>187</td>\n",
       "      <td>204</td>\n",
       "      <td>207</td>\n",
       "      <td>132</td>\n",
       "      <td>123</td>\n",
       "      <td>108</td>\n",
       "      <td>84</td>\n",
       "    </tr>\n",
       "  </tbody>\n",
       "</table>\n",
       "<p>7 rows × 24 columns</p>\n",
       "</div>"
      ],
      "text/plain": [
       "hour  0   1   2   3   4   5   6    7    8    9  ...   14   15   16   17   18  \\\n",
       "day                                             ...                            \n",
       "0     54  30  17  29  48  72  74  105  154  121 ...  129  183  194  214  176   \n",
       "1     71  29  54  40  42  47  91   71   86  142 ...  154  138  168  182  176   \n",
       "2     43  20  27  28  49  59  66   56   84  136 ...  197  146  127  173  151   \n",
       "3     34  31  27  35  78  42  56   65   97  185 ...  146  136  136  147  191   \n",
       "4     74  14  23  29  26  60  66   62  153   92 ...  123  228   88  149  130   \n",
       "5     62  14  29  21  39  40  51   91  120  168 ...  153  133  162  181  152   \n",
       "6     50  39  27  24  46  48  80   97   92  119 ...  217  200  199  187  204   \n",
       "\n",
       "hour   19   20   21   22  23  \n",
       "day                           \n",
       "0     249  147  187   77  85  \n",
       "1     179  239  152  129  84  \n",
       "2     176  128  103   90  88  \n",
       "3     190  117  110   85  66  \n",
       "4     155  214  128  100  56  \n",
       "5     121  150  154   99  65  \n",
       "6     207  132  123  108  84  \n",
       "\n",
       "[7 rows x 24 columns]"
      ]
     },
     "execution_count": 125,
     "metadata": {},
     "output_type": "execute_result"
    }
   ],
   "source": [
    "df3"
   ]
  },
  {
   "cell_type": "code",
   "execution_count": 126,
   "metadata": {},
   "outputs": [
    {
     "data": {
      "text/plain": [
       "<matplotlib.axes._subplots.AxesSubplot at 0x7f3b4186b6a0>"
      ]
     },
     "execution_count": 126,
     "metadata": {},
     "output_type": "execute_result"
    },
    {
     "data": {
      "image/png": "[encoded data removed]",
      "text/plain": [
       "<matplotlib.figure.Figure at 0x7f3b4c789c88>"
      ]
     },
     "metadata": {},
     "output_type": "display_data"
    }
   ],
   "source": [
    "sns.heatmap(df3)"
   ]
  },
  {
   "cell_type": "markdown",
   "metadata": {},
   "source": [
    "Brighter indicates more conversions. We already knew about Friday evening, but there is a bright spot Tuesday 10 PST as well. Maybe people are trying to get product delivery by the weekend? Worth exploring."
   ]
  },
  {
   "cell_type": "code",
   "execution_count": null,
   "metadata": {},
   "outputs": [],
   "source": []
  }
 ],
 "metadata": {
  "kernelspec": {
   "display_name": "Python 3",
   "language": "python",
   "name": "python3"
  },
  "language_info": {
   "codemirror_mode": {
    "name": "ipython",
    "version": 3
   },
   "file_extension": ".py",
   "mimetype": "text/x-python",
   "name": "python",
   "nbconvert_exporter": "python",
   "pygments_lexer": "ipython3",
   "version": "3.5.2"
  }
 },
 "nbformat": 4,
 "nbformat_minor": 2
}
